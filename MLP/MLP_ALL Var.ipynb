{
 "cells": [
  {
   "cell_type": "markdown",
   "metadata": {},
   "source": [
    "## Random Forest Test on GWL Timeseries in Steenkoppies A2N0612\n"
   ]
  },
  {
   "cell_type": "markdown",
   "metadata": {},
   "source": [
    "## 1. import libraries"
   ]
  },
  {
   "cell_type": "code",
   "execution_count": 1,
   "metadata": {},
   "outputs": [],
   "source": [
    "import pandas as pd\n",
    "import numpy as np\n",
    "import matplotlib.pyplot as plt\n",
    "import seaborn as sns\n",
    "%matplotlib inline\n",
    "from numpy import array, hstack, math\n",
    "from numpy.random import uniform\n",
    "import matplotlib.pyplot as plt\n",
    "from sklearn.model_selection import train_test_split\n",
    "from sklearn.metrics import mean_squared_error\n",
    "from sklearn.ensemble import GradientBoostingRegressor\n",
    "\n",
    "from sklearn.multioutput import MultiOutputRegressor\n",
    "from sklearn.ensemble import RandomForestRegressor\n",
    "from sklearn.model_selection import RandomizedSearchCV\n",
    "import numpy as np\n",
    "np.random.seed(42)\n",
    "from sklearn.metrics import r2_score"
   ]
  },
  {
   "cell_type": "markdown",
   "metadata": {},
   "source": [
    "## 2. Import data "
   ]
  },
  {
   "cell_type": "code",
   "execution_count": 2,
   "metadata": {},
   "outputs": [],
   "source": [
    "data=pd.read_excel(r'C:\\Users\\Kirsty\\Desktop\\Steenkoppies Data\\1. GWL background decline\\A2N0612\\A2N0612.xlsx', parse_dates=['date'],  index_col='date')"
   ]
  },
  {
   "cell_type": "code",
   "execution_count": 3,
   "metadata": {},
   "outputs": [
    {
     "data": {
      "text/html": [
       "<div>\n",
       "<style scoped>\n",
       "    .dataframe tbody tr th:only-of-type {\n",
       "        vertical-align: middle;\n",
       "    }\n",
       "\n",
       "    .dataframe tbody tr th {\n",
       "        vertical-align: top;\n",
       "    }\n",
       "\n",
       "    .dataframe thead th {\n",
       "        text-align: right;\n",
       "    }\n",
       "</style>\n",
       "<table border=\"1\" class=\"dataframe\">\n",
       "  <thead>\n",
       "    <tr style=\"text-align: right;\">\n",
       "      <th></th>\n",
       "      <th>GWL</th>\n",
       "      <th>River Discharge</th>\n",
       "      <th>Rainfall</th>\n",
       "      <th>Temperature</th>\n",
       "      <th>Groundwater usage</th>\n",
       "    </tr>\n",
       "    <tr>\n",
       "      <th>date</th>\n",
       "      <th></th>\n",
       "      <th></th>\n",
       "      <th></th>\n",
       "      <th></th>\n",
       "      <th></th>\n",
       "    </tr>\n",
       "  </thead>\n",
       "  <tbody>\n",
       "    <tr>\n",
       "      <th>1989-05-01</th>\n",
       "      <td>-55.14</td>\n",
       "      <td>0.379</td>\n",
       "      <td>3.021605</td>\n",
       "      <td>12.20</td>\n",
       "      <td>13.45</td>\n",
       "    </tr>\n",
       "    <tr>\n",
       "      <th>1989-06-01</th>\n",
       "      <td>-55.11</td>\n",
       "      <td>0.386</td>\n",
       "      <td>35.249315</td>\n",
       "      <td>9.45</td>\n",
       "      <td>13.45</td>\n",
       "    </tr>\n",
       "    <tr>\n",
       "      <th>1989-07-01</th>\n",
       "      <td>-55.09</td>\n",
       "      <td>0.390</td>\n",
       "      <td>0.000000</td>\n",
       "      <td>9.00</td>\n",
       "      <td>13.45</td>\n",
       "    </tr>\n",
       "    <tr>\n",
       "      <th>1989-08-01</th>\n",
       "      <td>-55.08</td>\n",
       "      <td>0.384</td>\n",
       "      <td>0.000000</td>\n",
       "      <td>12.85</td>\n",
       "      <td>13.45</td>\n",
       "    </tr>\n",
       "    <tr>\n",
       "      <th>1989-09-01</th>\n",
       "      <td>-55.25</td>\n",
       "      <td>0.361</td>\n",
       "      <td>0.000000</td>\n",
       "      <td>13.85</td>\n",
       "      <td>13.45</td>\n",
       "    </tr>\n",
       "  </tbody>\n",
       "</table>\n",
       "</div>"
      ],
      "text/plain": [
       "              GWL  River Discharge   Rainfall  Temperature  Groundwater usage\n",
       "date                                                                         \n",
       "1989-05-01 -55.14            0.379   3.021605        12.20              13.45\n",
       "1989-06-01 -55.11            0.386  35.249315         9.45              13.45\n",
       "1989-07-01 -55.09            0.390   0.000000         9.00              13.45\n",
       "1989-08-01 -55.08            0.384   0.000000        12.85              13.45\n",
       "1989-09-01 -55.25            0.361   0.000000        13.85              13.45"
      ]
     },
     "execution_count": 3,
     "metadata": {},
     "output_type": "execute_result"
    }
   ],
   "source": [
    "data.head(5)"
   ]
  },
  {
   "cell_type": "code",
   "execution_count": 4,
   "metadata": {},
   "outputs": [
    {
     "data": {
      "text/plain": [
       "GWL                  float64\n",
       "River Discharge      float64\n",
       "Rainfall             float64\n",
       "Temperature          float64\n",
       "Groundwater usage    float64\n",
       "dtype: object"
      ]
     },
     "execution_count": 4,
     "metadata": {},
     "output_type": "execute_result"
    }
   ],
   "source": [
    "data.dtypes"
   ]
  },
  {
   "cell_type": "code",
   "execution_count": 5,
   "metadata": {},
   "outputs": [
    {
     "name": "stdout",
     "output_type": "stream",
     "text": [
      "The shape of our features is: (342, 5)\n"
     ]
    }
   ],
   "source": [
    "print('The shape of our features is:', data.shape)"
   ]
  },
  {
   "cell_type": "code",
   "execution_count": null,
   "metadata": {},
   "outputs": [],
   "source": [
    "#Sandardise\n",
    "import pandas as pd\n",
    "from sklearn.preprocessing import StandardScaler\n",
    "scaler = StandardScaler()\n",
    "\n",
    "data= pd.DataFrame(scaler.fit_transform(feature), columns=feature.columns, index=feature.index)"
   ]
  },
  {
   "cell_type": "code",
   "execution_count": 6,
   "metadata": {},
   "outputs": [],
   "source": [
    "#Normalisng\n",
    "#import pandas as pd\n",
    "#from sklearn.preprocessing import MinMaxScaler\n",
    "#scaler = MinMaxScaler()\n",
    "\n",
    "#feature= pd.DataFrame(scaler.fit_transform(feature), columns=feature.columns, index=feature.index)"
   ]
  },
  {
   "cell_type": "code",
   "execution_count": 7,
   "metadata": {},
   "outputs": [
    {
     "data": {
      "text/html": [
       "<div>\n",
       "<style scoped>\n",
       "    .dataframe tbody tr th:only-of-type {\n",
       "        vertical-align: middle;\n",
       "    }\n",
       "\n",
       "    .dataframe tbody tr th {\n",
       "        vertical-align: top;\n",
       "    }\n",
       "\n",
       "    .dataframe thead th {\n",
       "        text-align: right;\n",
       "    }\n",
       "</style>\n",
       "<table border=\"1\" class=\"dataframe\">\n",
       "  <thead>\n",
       "    <tr style=\"text-align: right;\">\n",
       "      <th></th>\n",
       "      <th>GWL</th>\n",
       "      <th>River Discharge</th>\n",
       "      <th>Rainfall</th>\n",
       "      <th>Temperature</th>\n",
       "      <th>Groundwater usage</th>\n",
       "    </tr>\n",
       "    <tr>\n",
       "      <th>date</th>\n",
       "      <th></th>\n",
       "      <th></th>\n",
       "      <th></th>\n",
       "      <th></th>\n",
       "      <th></th>\n",
       "    </tr>\n",
       "  </thead>\n",
       "  <tbody>\n",
       "    <tr>\n",
       "      <th>1989-05-01</th>\n",
       "      <td>-55.14</td>\n",
       "      <td>0.379</td>\n",
       "      <td>3.021605</td>\n",
       "      <td>12.200000</td>\n",
       "      <td>13.45</td>\n",
       "    </tr>\n",
       "    <tr>\n",
       "      <th>1989-06-01</th>\n",
       "      <td>-55.11</td>\n",
       "      <td>0.386</td>\n",
       "      <td>35.249315</td>\n",
       "      <td>9.450000</td>\n",
       "      <td>13.45</td>\n",
       "    </tr>\n",
       "    <tr>\n",
       "      <th>1989-07-01</th>\n",
       "      <td>-55.09</td>\n",
       "      <td>0.390</td>\n",
       "      <td>0.000000</td>\n",
       "      <td>9.000000</td>\n",
       "      <td>13.45</td>\n",
       "    </tr>\n",
       "    <tr>\n",
       "      <th>1989-08-01</th>\n",
       "      <td>-55.08</td>\n",
       "      <td>0.384</td>\n",
       "      <td>0.000000</td>\n",
       "      <td>12.850000</td>\n",
       "      <td>13.45</td>\n",
       "    </tr>\n",
       "    <tr>\n",
       "      <th>1989-09-01</th>\n",
       "      <td>-55.25</td>\n",
       "      <td>0.361</td>\n",
       "      <td>0.000000</td>\n",
       "      <td>13.850000</td>\n",
       "      <td>13.45</td>\n",
       "    </tr>\n",
       "    <tr>\n",
       "      <th>...</th>\n",
       "      <td>...</td>\n",
       "      <td>...</td>\n",
       "      <td>...</td>\n",
       "      <td>...</td>\n",
       "      <td>...</td>\n",
       "    </tr>\n",
       "    <tr>\n",
       "      <th>2017-06-01</th>\n",
       "      <td>-56.52</td>\n",
       "      <td>0.174</td>\n",
       "      <td>0.000000</td>\n",
       "      <td>11.649500</td>\n",
       "      <td>29.92</td>\n",
       "    </tr>\n",
       "    <tr>\n",
       "      <th>2017-07-01</th>\n",
       "      <td>-56.50</td>\n",
       "      <td>0.191</td>\n",
       "      <td>0.500000</td>\n",
       "      <td>12.172903</td>\n",
       "      <td>29.92</td>\n",
       "    </tr>\n",
       "    <tr>\n",
       "      <th>2017-08-01</th>\n",
       "      <td>-56.54</td>\n",
       "      <td>0.196</td>\n",
       "      <td>0.000000</td>\n",
       "      <td>12.699355</td>\n",
       "      <td>29.92</td>\n",
       "    </tr>\n",
       "    <tr>\n",
       "      <th>2017-09-01</th>\n",
       "      <td>-56.81</td>\n",
       "      <td>0.196</td>\n",
       "      <td>6.090000</td>\n",
       "      <td>18.116000</td>\n",
       "      <td>29.92</td>\n",
       "    </tr>\n",
       "    <tr>\n",
       "      <th>2017-10-01</th>\n",
       "      <td>-56.81</td>\n",
       "      <td>0.200</td>\n",
       "      <td>84.320000</td>\n",
       "      <td>17.392742</td>\n",
       "      <td>29.92</td>\n",
       "    </tr>\n",
       "  </tbody>\n",
       "</table>\n",
       "<p>342 rows × 5 columns</p>\n",
       "</div>"
      ],
      "text/plain": [
       "              GWL  River Discharge   Rainfall  Temperature  Groundwater usage\n",
       "date                                                                         \n",
       "1989-05-01 -55.14            0.379   3.021605    12.200000              13.45\n",
       "1989-06-01 -55.11            0.386  35.249315     9.450000              13.45\n",
       "1989-07-01 -55.09            0.390   0.000000     9.000000              13.45\n",
       "1989-08-01 -55.08            0.384   0.000000    12.850000              13.45\n",
       "1989-09-01 -55.25            0.361   0.000000    13.850000              13.45\n",
       "...           ...              ...        ...          ...                ...\n",
       "2017-06-01 -56.52            0.174   0.000000    11.649500              29.92\n",
       "2017-07-01 -56.50            0.191   0.500000    12.172903              29.92\n",
       "2017-08-01 -56.54            0.196   0.000000    12.699355              29.92\n",
       "2017-09-01 -56.81            0.196   6.090000    18.116000              29.92\n",
       "2017-10-01 -56.81            0.200  84.320000    17.392742              29.92\n",
       "\n",
       "[342 rows x 5 columns]"
      ]
     },
     "execution_count": 7,
     "metadata": {},
     "output_type": "execute_result"
    }
   ],
   "source": [
    "data"
   ]
  },
  {
   "cell_type": "markdown",
   "metadata": {},
   "source": [
    "## 3. Visualise data "
   ]
  },
  {
   "cell_type": "code",
   "execution_count": 8,
   "metadata": {},
   "outputs": [
    {
     "data": {
      "image/png": "[encoded data removed]",
      "text/plain": [
       "<Figure size 576x360 with 5 Axes>"
      ]
     },
     "metadata": {
      "needs_background": "light"
     },
     "output_type": "display_data"
    }
   ],
   "source": [
    "# Plotting\n",
    "data.plot(kind='line', subplots=True,\n",
    "     legend=False)\n",
    "\n",
    "[ax.legend(loc=\"best\", prop={'size': 8}) for ax in plt.gcf().axes]\n",
    "plt.gcf().set_size_inches(8,5)"
   ]
  },
  {
   "cell_type": "markdown",
   "metadata": {},
   "source": [
    "##  Split data: Train, test, val split 50%, 10%,10% "
   ]
  },
  {
   "cell_type": "markdown",
   "metadata": {},
   "source": [
    "change values here "
   ]
  },
  {
   "cell_type": "code",
   "execution_count": 35,
   "metadata": {},
   "outputs": [
    {
     "data": {
      "text/plain": [
       "array([[-8.82281743e-01, -8.40884054e-01,  3.66548429e-01,\n",
       "        -8.90317771e-01],\n",
       "       [-3.44697953e-01, -1.47387411e+00,  4.51612111e-01,\n",
       "        -8.90317771e-01],\n",
       "       [-9.32684508e-01, -1.57745431e+00,  5.00219929e-01,\n",
       "        -8.90317771e-01],\n",
       "       [-9.32684508e-01, -6.91268221e-01,  4.27308202e-01,\n",
       "        -8.90317771e-01],\n",
       "       [-9.32684508e-01, -4.61090017e-01,  1.47813248e-01,\n",
       "        -8.90317771e-01],\n",
       "       [-3.82218313e-01,  1.37373314e-01, -2.53201251e-01,\n",
       "        -8.90317771e-01],\n",
       "       [ 1.50624667e+00,  4.94149530e-01, -1.80289524e-01,\n",
       "        -8.90317771e-01],\n",
       "       [ 1.32953772e+00,  8.85452477e-01, -9.52258424e-02,\n",
       "        -8.90317771e-01],\n",
       "       [-1.65367994e-01,  1.01205049e+00, -2.28897342e-01,\n",
       "        -8.90317771e-01],\n",
       "       [ 2.95778107e-01,  5.74711901e-01, -1.19529751e-01,\n",
       "        -8.90317771e-01],\n",
       "       [ 6.83000495e-01,  5.63202991e-01,  1.98979372e-03,\n",
       "        -8.90317771e-01],\n",
       "       [ 1.03283441e+00, -4.49581107e-01,  2.32876930e-01,\n",
       "        -8.90317771e-01],\n",
       "       [-8.69300649e-01, -1.14011572e+00,  2.20724975e-01,\n",
       "        -8.90317771e-01],\n",
       "       [-9.32684508e-01, -1.79612360e+00,  7.49015208e-02,\n",
       "        -8.90317771e-01],\n",
       "       [-9.32684508e-01, -1.39331174e+00, -3.44660698e-02,\n",
       "        -8.90317771e-01],\n",
       "       [-9.22382594e-01, -9.90499886e-01,  1.47813248e-01,\n",
       "        -8.90317771e-01],\n",
       "       [-7.61121074e-01, -1.61858352e-01, -4.66180244e-02,\n",
       "        -8.90317771e-01],\n",
       "       [-2.22133704e-01,  7.81872285e-01, -4.66180244e-02,\n",
       "        -8.90317771e-01],\n",
       "       [-4.06990762e-01,  1.24222869e+00, -2.89657115e-01,\n",
       "        -8.90317771e-01],\n",
       "       [ 1.44115496e+00,  1.26524651e+00, -2.89657115e-01,\n",
       "        -8.90317771e-01],\n",
       "       [ 1.35183486e+00,  1.19619305e+00, -2.65353206e-01,\n",
       "        -8.90317771e-01],\n",
       "       [ 3.38005990e-01,  8.50925746e-01, -5.87699789e-02,\n",
       "        -8.90317771e-01],\n",
       "       [ 2.20150389e+00,  4.48113889e-01, -4.66180244e-02,\n",
       "        -8.90317771e-01],\n",
       "       [-9.32684508e-01, -4.95616748e-01,  1.59965202e-01,\n",
       "        -8.90317771e-01],\n",
       "       [-9.32684508e-01, -1.02502662e+00,  1.59965202e-01,\n",
       "        -8.90317771e-01],\n",
       "       [-8.64733411e-01, -1.77310578e+00,  2.20724975e-01,\n",
       "        -8.90317771e-01],\n",
       "       [-9.32684508e-01, -1.79612360e+00,  3.78700384e-01,\n",
       "        -8.90317771e-01],\n",
       "       [-8.99322921e-01, -1.15162463e+00,  3.05788657e-01,\n",
       "        -8.90317771e-01],\n",
       "       [-7.48956507e-01, -2.19402903e-01, -4.66180244e-02,\n",
       "        -8.90317771e-01],\n",
       "       [-2.12117087e-01,  6.32256452e-01, -2.53201251e-01,\n",
       "        -8.90317771e-01],\n",
       "       [ 4.12769810e-01,  8.73943566e-01, -2.77505160e-01,\n",
       "        -8.90317771e-01],\n",
       "       [ 4.30273593e-01,  9.08470297e-01, -3.01809069e-01,\n",
       "        -8.90317771e-01],\n",
       "       [ 1.21394941e-01,  1.65654946e+00, -2.77505160e-01,\n",
       "        -8.90317771e-01],\n",
       "       [-1.73963447e-01,  1.59900491e+00, -4.59784478e-01,\n",
       "        -8.90317771e-01],\n",
       "       [-4.86331291e-01,  9.89032669e-01, -4.11176660e-01,\n",
       "        -8.90317771e-01],\n",
       "       [-7.13513767e-01,  4.02078248e-01, -4.59784478e-01,\n",
       "        -8.90317771e-01],\n",
       "       [-9.32684508e-01, -1.03653553e+00, -6.42063796e-01,\n",
       "        -8.90317771e-01],\n",
       "       [-7.31167426e-01, -1.56594540e+00, -5.93455978e-01,\n",
       "        -8.90317771e-01],\n",
       "       [-9.32684508e-01, -1.28973155e+00, -5.32696205e-01,\n",
       "        -8.90317771e-01],\n",
       "       [-5.34576486e-01, -6.91268221e-01, -6.78519659e-01,\n",
       "        -8.90317771e-01],\n",
       "       [-7.74097332e-01,  7.24327734e-01, -8.72950932e-01,\n",
       "        -8.90317771e-01],\n",
       "       [-3.92145537e-01,  8.96961387e-01, -1.20105370e+00,\n",
       "        -8.90317771e-01],\n",
       "       [ 1.79130308e+00,  7.70363375e-01, -1.03092634e+00,\n",
       "        -8.90317771e-01],\n",
       "       [ 1.38929644e+00,  1.26524651e+00, -7.63583341e-01,\n",
       "        -8.90317771e-01],\n",
       "       [ 2.62468862e-01,  1.35731779e+00, -1.03092634e+00,\n",
       "        -8.90317771e-01],\n",
       "       [-3.69017240e-01,  1.00054158e+00, -1.18890175e+00,\n",
       "        -8.90317771e-01],\n",
       "       [ 5.76953920e-01,  5.74711901e-01, -1.14029393e+00,\n",
       "        -8.90317771e-01],\n",
       "       [-3.04818532e-01, -4.67692497e-02, -1.14029393e+00,\n",
       "        -8.90317771e-01],\n",
       "       [-8.80800244e-01, -6.91268221e-01, -1.15244589e+00,\n",
       "        -8.90317771e-01],\n",
       "       [-9.32684508e-01, -1.78461469e+00, -1.09168611e+00,\n",
       "        -8.90317771e-01],\n",
       "       [-9.32684508e-01, -1.30124046e+00, -1.09168611e+00,\n",
       "        -8.90317771e-01],\n",
       "       [-8.26834827e-01, -1.14011572e+00, -1.28611739e+00,\n",
       "        -8.90317771e-01],\n",
       "       [-5.96762665e-01,  3.21515877e-01, -1.61422016e+00,\n",
       "        -8.90317771e-01],\n",
       "       [ 2.63218307e+00,  5.86220811e-01, -1.39548498e+00,\n",
       "        -8.90317771e-01],\n",
       "       [ 2.97366265e-01,  5.40185171e-01, -1.17674979e+00,\n",
       "        -8.90317771e-01],\n",
       "       [ 9.64524410e-01,  1.10412177e+00, -1.06738220e+00,\n",
       "        -8.90317771e-01],\n",
       "       [ 9.10662842e-01,  7.81872285e-01, -9.33710704e-01,\n",
       "        -8.90317771e-01],\n",
       "       [ 9.69852328e-01,  7.47345554e-01, -8.48647023e-01,\n",
       "        -8.90317771e-01],\n",
       "       [-1.71132912e-01,  5.40185171e-01, -9.58014613e-01,\n",
       "        -8.90317771e-01],\n",
       "       [-6.62722003e-01, -2.42420723e-01, -1.00662243e+00,\n",
       "        -8.90317771e-01],\n",
       "       [-9.32684508e-01, -9.55973156e-01, -9.82318522e-01,\n",
       "        -8.90317771e-01],\n",
       "       [-9.32684508e-01, -1.85366815e+00, -9.21558750e-01,\n",
       "        -8.90317771e-01],\n",
       "       [-9.09624836e-01, -2.09535527e+00, -8.48647023e-01,\n",
       "        -8.90317771e-01],\n",
       "       [-8.05856307e-01, -1.23218700e+00, -1.00662243e+00,\n",
       "        -8.90317771e-01],\n",
       "       [-9.24958073e-01,  3.37931217e-02, -1.43194084e+00,\n",
       "        -8.90317771e-01],\n",
       "       [ 5.01524293e-01,  3.21515877e-01, -1.77219557e+00,\n",
       "        -8.90317771e-01],\n",
       "       [ 3.18239606e-01,  6.32256452e-01, -1.65067602e+00,\n",
       "        -8.90317771e-01],\n",
       "       [ 1.17692580e+00,  1.40335344e+00, -1.84510729e+00,\n",
       "        -8.90317771e-01],\n",
       "       [ 8.36353635e-01,  1.80616529e+00, -1.45624475e+00,\n",
       "        -8.90317771e-01],\n",
       "       [ 1.97088960e-02,  1.43788017e+00, -1.65067602e+00,\n",
       "        -8.90317771e-01],\n",
       "       [ 1.19958320e+00,  9.54505938e-01, -1.78434752e+00,\n",
       "        -8.90317771e-01],\n",
       "       [ 1.05079822e-03, -7.33608896e-04, -1.41978888e+00,\n",
       "        -8.90317771e-01],\n",
       "       [-5.52199904e-01, -9.32955335e-01, -1.27396543e+00,\n",
       "        -8.90317771e-01],\n",
       "       [-9.32684508e-01, -1.78461469e+00, -1.23750957e+00,\n",
       "        -8.90317771e-01],\n",
       "       [-9.32684508e-01, -1.63499886e+00, -1.24966152e+00,\n",
       "        -8.90317771e-01],\n",
       "       [-7.68332414e-01, -7.14286041e-01, -1.31042129e+00,\n",
       "        -8.90317771e-01],\n",
       "       [-7.92739644e-01,  1.14355493e-01, -1.74789166e+00,\n",
       "        -8.90317771e-01],\n",
       "       [ 7.57226623e-01,  4.94149530e-01, -2.13675420e+00,\n",
       "        -8.90317771e-01],\n",
       "       [ 1.08053876e+00,  9.19979207e-01, -2.05169052e+00,\n",
       "        -8.90317771e-01],\n",
       "       [ 1.92021110e+00,  6.78292093e-01, -1.79649947e+00,\n",
       "        -8.90317771e-01],\n",
       "       [ 1.36746469e+00,  1.03506831e+00, -1.44409279e+00,\n",
       "        -8.90317771e-01],\n",
       "       [ 2.33444644e+00,  7.93381195e-01, -9.58014613e-01,\n",
       "        -8.90317771e-01],\n",
       "       [ 7.20861552e-02,  3.44533697e-01, -7.63583341e-01,\n",
       "        -8.90317771e-01],\n",
       "       [ 9.63041432e-01, -3.22983095e-01, -5.81304023e-01,\n",
       "        -8.90317771e-01],\n",
       "       [-4.69664952e-01, -1.05955335e+00, -3.13961024e-01,\n",
       "        -8.90317771e-01],\n",
       "       [-8.28557075e-01, -1.71556123e+00, -1.68137570e-01,\n",
       "        -8.90317771e-01],\n",
       "       [-9.27533551e-01, -1.92272161e+00, -4.66180244e-02,\n",
       "        -8.90317771e-01],\n",
       "       [-6.81244680e-01, -9.44464245e-01, -2.23141153e-02,\n",
       "        -8.90317771e-01],\n",
       "       [-8.23645388e-01, -4.67692497e-02, -4.35480569e-01,\n",
       "        -8.90317771e-01],\n",
       "       [ 9.30652710e-01,  7.47345554e-01, -8.85102886e-01,\n",
       "        -8.90317771e-01],\n",
       "       [ 5.67972973e-01,  5.63202991e-01, -8.36495068e-01,\n",
       "        -8.90317771e-01],\n",
       "       [ 1.11956191e+00,  1.04657722e+00, -7.14975523e-01,\n",
       "        -8.90317771e-01],\n",
       "       [ 6.30551455e-01,  1.05808613e+00, -7.87887250e-01,\n",
       "         7.28146587e-02],\n",
       "       [ 1.92113428e-01,  1.08110395e+00, -8.72950932e-01,\n",
       "         7.28146587e-02],\n",
       "       [ 4.90400783e+00,  4.71131709e-01, -2.16745388e-01,\n",
       "         7.28146587e-02],\n",
       "       [-4.42458760e-01, -3.80527646e-01,  4.27308202e-01,\n",
       "         7.28146587e-02],\n",
       "       [ 4.00160597e-01, -7.71830592e-01,  7.31107065e-01,\n",
       "         7.28146587e-02],\n",
       "       [-7.40016604e-01, -1.70405232e+00,  1.15642547e+00,\n",
       "         7.28146587e-02],\n",
       "       [-8.56887341e-01, -1.25520482e+00,  1.21718525e+00,\n",
       "         7.28146587e-02],\n",
       "       [-8.03894789e-01, -7.02777131e-01,  1.08351375e+00,\n",
       "         7.28146587e-02],\n",
       "       [-3.14027946e-01,  2.22842115e-02,  1.03490593e+00,\n",
       "         7.28146587e-02],\n",
       "       [-3.81723987e-01,  4.36604979e-01,  7.31107065e-01,\n",
       "         7.28146587e-02],\n",
       "       [ 2.02358852e-01,  9.08470297e-01,  7.31107065e-01,\n",
       "         7.28146587e-02],\n",
       "       [ 1.96035650e+00,  1.40335344e+00,  7.67562928e-01,\n",
       "         7.28146587e-02],\n",
       "       [ 7.92908633e-01,  1.16166632e+00,  1.20503329e+00,\n",
       "         1.20948446e+00],\n",
       "       [ 6.36896936e-01,  1.29977324e+00,  9.74146155e-01,\n",
       "         1.20948446e+00],\n",
       "       [-1.91200876e-01,  1.01205049e+00,  1.01060202e+00,\n",
       "         1.20948446e+00],\n",
       "       [-6.50338936e-01,  2.75480236e-01,  9.37690292e-01,\n",
       "         1.20948446e+00],\n",
       "       [-9.32684508e-01, -7.37303862e-01,  1.15642547e+00,\n",
       "         1.20948446e+00],\n",
       "       [-9.32684508e-01, -1.31274937e+00,  1.24148915e+00,\n",
       "         1.20948446e+00],\n",
       "       [-9.32684508e-01, -1.30124046e+00,  1.24148915e+00,\n",
       "         1.20948446e+00],\n",
       "       [-9.32684508e-01, -8.52392964e-01,  1.09566570e+00,\n",
       "         1.20948446e+00],\n",
       "       [-6.40770617e-01,  3.33024787e-01,  7.43259019e-01,\n",
       "         1.20948446e+00],\n",
       "       [-6.15749426e-01,  5.40185171e-01,  4.51612111e-01,\n",
       "         1.20948446e+00],\n",
       "       [ 1.32566468e+00,  8.04890105e-01,  2.57180839e-01,\n",
       "         1.20948446e+00],\n",
       "       [ 1.97693345e+00,  1.83408954e-01,  7.18955110e-01,\n",
       "         1.20948446e+00],\n",
       "       [ 4.50099129e-01,  1.21921087e+00,  8.16170746e-01,\n",
       "         1.20948446e+00],\n",
       "       [-3.77681317e-01,  1.23071978e+00,  7.43259019e-01,\n",
       "         1.20948446e+00],\n",
       "       [-9.58458560e-02,  9.19979207e-01,  4.51612111e-01,\n",
       "         1.20948446e+00],\n",
       "       [-2.65452756e-01,  2.63971326e-01,  2.08573021e-01,\n",
       "         1.20948446e+00],\n",
       "       [-2.89365660e-01, -7.14286041e-01,  3.78700384e-01,\n",
       "         1.20948446e+00],\n",
       "       [-8.86565163e-01, -1.28973155e+00,  3.90852338e-01,\n",
       "         1.20948446e+00],\n",
       "       [-8.92944042e-01, -1.12860681e+00,  4.51612111e-01,\n",
       "         1.20948446e+00],\n",
       "       [-8.64613776e-01, -8.29375143e-01,  4.88067974e-01,\n",
       "         1.20948446e+00],\n",
       "       [-5.69494659e-01, -2.07893993e-01,  2.93636702e-01,\n",
       "         1.20948446e+00],\n",
       "       [-7.94820797e-01,  1.94917865e-01, -7.09219334e-02,\n",
       "         1.20948446e+00],\n",
       "       [ 1.02360921e+00,  9.77523758e-01, -3.86872751e-01,\n",
       "         1.20948446e+00],\n",
       "       [ 5.71959153e-01,  5.80466356e-01, -3.01809069e-01,\n",
       "         1.20948446e+00],\n",
       "       [ 1.22404958e+00,  1.83408954e-01,  1.11357384e-01,\n",
       "         1.20948446e+00],\n",
       "       [ 2.60793070e+00,  6.32256452e-01,  6.94651201e-01,\n",
       "         1.20948446e+00],\n",
       "       [ 1.39639895e+00,  6.43765362e-01,  1.27794502e+00,\n",
       "         1.20948446e+00],\n",
       "       [-1.86091458e-01, -4.49581107e-01,  1.69111147e+00,\n",
       "         1.20948446e+00],\n",
       "       [-6.09849087e-01, -9.67482066e-01,  1.87339079e+00,\n",
       "         1.20948446e+00],\n",
       "       [-9.24958073e-01, -9.09937515e-01,  1.88554274e+00,\n",
       "         1.20948446e+00],\n",
       "       [-9.32684508e-01, -1.18615136e+00,  1.94630252e+00,\n",
       "         1.20948446e+00],\n",
       "       [-9.32684508e-01, -1.03653553e+00,  1.89769470e+00,\n",
       "         1.20948446e+00],\n",
       "       [-2.84230489e-01, -1.96385082e-01,  1.70326343e+00,\n",
       "         1.20948446e+00],\n",
       "       [ 1.58734328e+00,  5.74711901e-01,  1.58174388e+00,\n",
       "         1.20948446e+00],\n",
       "       [ 2.91256897e-01,  1.94917865e-01,  1.55743997e+00,\n",
       "         1.20948446e+00],\n",
       "       [ 2.48246086e+00,  6.55274273e-01,  1.48452824e+00,\n",
       "         1.20948446e+00],\n",
       "       [-6.39917386e-01,  8.50925746e-01,  1.27794502e+00,\n",
       "         1.20948446e+00],\n",
       "       [ 3.41554335e-01,  6.43765362e-01,  1.09566570e+00,\n",
       "         1.20948446e+00],\n",
       "       [ 5.72254913e-01,  4.13587158e-01,  1.05920984e+00,\n",
       "         1.20948446e+00],\n",
       "       [-3.68982015e-01, -9.28048905e-02,  1.20503329e+00,\n",
       "         1.20948446e+00],\n",
       "       [-5.17610395e-01, -8.52392964e-01,  1.39946456e+00,\n",
       "         1.20948446e+00],\n",
       "       [-7.85013208e-01, -1.37029392e+00,  1.47237629e+00,\n",
       "         1.20948446e+00],\n",
       "       [-9.09624836e-01, -1.71556123e+00,  1.66680756e+00,\n",
       "         1.20948446e+00],\n",
       "       [-9.17501148e-01, -8.40884054e-01,  1.73971929e+00,\n",
       "         1.20948446e+00],\n",
       "       [-8.93315557e-02, -1.96385082e-01,  1.59389584e+00,\n",
       "         1.20948446e+00],\n",
       "       [ 9.00559493e-01,  5.63202991e-01,  1.24148915e+00,\n",
       "         1.20948446e+00],\n",
       "       [ 1.53325823e+00,  5.17167350e-01,  1.31440088e+00,\n",
       "         1.20948446e+00],\n",
       "       [ 6.30278787e-01,  1.03506831e+00,  1.42376847e+00,\n",
       "         1.20948446e+00],\n",
       "       [ 1.63283288e+00,  1.24222869e+00,  9.61994201e-01,\n",
       "         1.20948446e+00],\n",
       "       [ 1.69116900e-01,  9.42997028e-01,  8.16170746e-01,\n",
       "         1.20948446e+00],\n",
       "       [-4.65424552e-01,  7.93381195e-01,  9.37690292e-01,\n",
       "         1.20948446e+00],\n",
       "       [-7.71266798e-01,  1.94917865e-01,  9.25538337e-01,\n",
       "         1.20948446e+00],\n",
       "       [-2.40655049e-01, -3.80527646e-01,  1.13212156e+00,\n",
       "         1.20948446e+00],\n",
       "       [-6.18324905e-01, -1.35878501e+00,  1.38731261e+00,\n",
       "         1.20948446e+00],\n",
       "       [-9.32684508e-01, -1.79612360e+00,  1.42376847e+00,\n",
       "         1.20948446e+00],\n",
       "       [-7.03076431e-01, -3.11474184e-01,  1.24148915e+00,\n",
       "         1.20948446e+00],\n",
       "       [-9.32684508e-01,  3.37931217e-02,  1.05920984e+00,\n",
       "         1.20948446e+00],\n",
       "       [ 1.46951997e-01,  5.86220811e-01,  6.94651201e-01,\n",
       "         1.20948446e+00],\n",
       "       [-4.63046803e-01,  8.16399015e-01,  2.45028884e-01,\n",
       "         1.20948446e+00],\n",
       "       [ 1.43448945e+00,  1.17317523e+00, -1.01621608e-02,\n",
       "         1.20948446e+00],\n",
       "       [ 5.49538359e-01,  1.35731779e+00, -2.16745388e-01,\n",
       "         1.20948446e+00],\n",
       "       [ 1.10839231e+00,  1.85910628e+00, -5.57000114e-01,\n",
       "         1.20948446e+00],\n",
       "       [-2.65314159e-02,  1.11332890e+00, -7.27127477e-01,\n",
       "         1.20948446e+00],\n",
       "       [-8.58354532e-01,  3.67551518e-01, -8.48647023e-01,\n",
       "         1.20948446e+00],\n",
       "       [-9.32684508e-01, -5.64670209e-01, -6.66367705e-01,\n",
       "         1.20948446e+00],\n",
       "       [-6.94517534e-01, -1.57745431e+00, -4.23328614e-01,\n",
       "         1.20948446e+00],\n",
       "       [-9.32684508e-01, -1.38180283e+00, -2.41049297e-01,\n",
       "         1.20948446e+00]])"
      ]
     },
     "execution_count": 35,
     "metadata": {},
     "output_type": "execute_result"
    }
   ],
   "source": [
    "Xtrain5 =  data.loc[:, ['Rainfall','Temperature','River Discharge','Groundwater usage'\n",
    "]].iloc[:171, :]\n",
    "Xtrain5 = scaler.fit_transform( data.loc[:, ['Rainfall','Temperature','River Discharge','Groundwater usage'\n",
    "]].iloc[:171, :])\n",
    "\n",
    "D"
   ]
  },
  {
   "cell_type": "code",
   "execution_count": 9,
   "metadata": {},
   "outputs": [],
   "source": [
    "#'GWL','Rainfall','Temperature','River Discharge','Groundwater usage'\n",
    "from sklearn.preprocessing import MinMaxScaler\n",
    "scaler = MinMaxScaler()\n",
    "\n",
    "ytrain5 = data['GWL'].iloc[:171]\n",
    "df[df.columns] = scaler.fit_transform(data['GWL'].iloc[:171])\n",
    "\n",
    "Xtrain5 = data.loc[:, ['Rainfall','Temperature','River Discharge','Groundwater usage'\n",
    "]].iloc[:171, :]\n",
    "\n",
    "ytest5 = data['GWL'].iloc[171:206]\n",
    "Xtest5  = data.loc[:, ['Rainfall','Temperature','River Discharge','Groundwater usage'\n",
    "]].iloc[171:206, :]\n",
    "\n",
    "yval5  = data['GWL'].iloc[206:240]\n",
    "Xval5 = data.loc[:, ['Rainfall','Temperature','River Discharge','Groundwater usage'\n",
    "]].iloc[206:240, :]"
   ]
  },
  {
   "cell_type": "code",
   "execution_count": 10,
   "metadata": {},
   "outputs": [
    {
     "name": "stdout",
     "output_type": "stream",
     "text": [
      "(171,) (171, 4) (35,) (35, 4) (34,) (34, 4)\n"
     ]
    }
   ],
   "source": [
    "print(ytrain5.shape,Xtrain5.shape,  \n",
    "      ytest5.shape,Xtest5.shape, \n",
    "      yval5.shape,Xval5.shape)"
   ]
  },
  {
   "cell_type": "markdown",
   "metadata": {},
   "source": [
    "## Call model"
   ]
  },
  {
   "cell_type": "code",
   "execution_count": 16,
   "metadata": {},
   "outputs": [],
   "source": [
    "from sklearn.neural_network import MLPRegressor\n",
    "\n",
    "#random.seed(42)\n",
    "rf5 = MLPRegressor(random_state=42)\n"
   ]
  },
  {
   "cell_type": "markdown",
   "metadata": {},
   "source": [
    "## 6. Train the model on training data"
   ]
  },
  {
   "cell_type": "code",
   "execution_count": 17,
   "metadata": {},
   "outputs": [
    {
     "name": "stderr",
     "output_type": "stream",
     "text": [
      "C:\\Users\\Kirsty\\anaconda3\\lib\\site-packages\\sklearn\\neural_network\\_multilayer_perceptron.py:571: ConvergenceWarning: Stochastic Optimizer: Maximum iterations (200) reached and the optimization hasn't converged yet.\n",
      "  % self.max_iter, ConvergenceWarning)\n"
     ]
    },
    {
     "data": {
      "text/plain": [
       "MLPRegressor(activation='relu', alpha=0.0001, batch_size='auto', beta_1=0.9,\n",
       "             beta_2=0.999, early_stopping=False, epsilon=1e-08,\n",
       "             hidden_layer_sizes=(100,), learning_rate='constant',\n",
       "             learning_rate_init=0.001, max_fun=15000, max_iter=200,\n",
       "             momentum=0.9, n_iter_no_change=10, nesterovs_momentum=True,\n",
       "             power_t=0.5, random_state=42, shuffle=True, solver='adam',\n",
       "             tol=0.0001, validation_fraction=0.1, verbose=False,\n",
       "             warm_start=False)"
      ]
     },
     "execution_count": 17,
     "metadata": {},
     "output_type": "execute_result"
    }
   ],
   "source": [
    "rf5.fit(Xtrain5, ytrain5)\n",
    "\n"
   ]
  },
  {
   "cell_type": "markdown",
   "metadata": {},
   "source": [
    "## 6.1 Plot tests results "
   ]
  },
  {
   "cell_type": "code",
   "execution_count": 18,
   "metadata": {},
   "outputs": [],
   "source": [
    "training5= rf5.predict(Xtrain5)\n",
    "training5 = pd.Series(training5, index=ytrain5.index)"
   ]
  },
  {
   "cell_type": "code",
   "execution_count": 19,
   "metadata": {},
   "outputs": [
    {
     "data": {
      "text/plain": [
       "<matplotlib.legend.Legend at 0x2314152e7c8>"
      ]
     },
     "execution_count": 19,
     "metadata": {},
     "output_type": "execute_result"
    },
    {
     "data": {
      "image/png": "[encoded data removed]",
      "text/plain": [
       "<Figure size 720x216 with 1 Axes>"
      ]
     },
     "metadata": {
      "needs_background": "light"
     },
     "output_type": "display_data"
    }
   ],
   "source": [
    "#plot test data \n",
    "ytrain5.plot(label='observed training target', color='royalblue')\n",
    "training5.plot(label='simulated output', color='chocolate')\n",
    "#plt.suptitle(' GWL Timeseries for Well A2N0553')\n",
    "plt.xlabel('date')\n",
    "plt.ylabel('Groundwater levels (mbgl)')\n",
    "\n",
    "plt.gcf().set_size_inches(10,3)\n",
    "\n",
    "plt.legend(loc = 'best')\n",
    "\n",
    "#plt.savefig(r'C:\\Users\\Kirsty\\Desktop\\Steenkoppies Data\\1. GWL background decline\\A2N0617\\together_rainfall A2N0617 _train')"
   ]
  },
  {
   "cell_type": "markdown",
   "metadata": {},
   "source": [
    "## 6.2 Create data frame from training observed and simulated data"
   ]
  },
  {
   "cell_type": "code",
   "execution_count": 20,
   "metadata": {},
   "outputs": [],
   "source": [
    "actual_train5 =np.array(ytrain5)\n",
    "simulated_train5 =np.array(training5)\n",
    " \n",
    "dftrain5= pd.DataFrame({'actual_train5': actual_train5, 'simulated_train5': list(simulated_train5)}, columns=['actual_train5', 'simulated_train5'])"
   ]
  },
  {
   "cell_type": "code",
   "execution_count": 21,
   "metadata": {},
   "outputs": [
    {
     "data": {
      "text/html": [
       "<div>\n",
       "<style scoped>\n",
       "    .dataframe tbody tr th:only-of-type {\n",
       "        vertical-align: middle;\n",
       "    }\n",
       "\n",
       "    .dataframe tbody tr th {\n",
       "        vertical-align: top;\n",
       "    }\n",
       "\n",
       "    .dataframe thead th {\n",
       "        text-align: right;\n",
       "    }\n",
       "</style>\n",
       "<table border=\"1\" class=\"dataframe\">\n",
       "  <thead>\n",
       "    <tr style=\"text-align: right;\">\n",
       "      <th></th>\n",
       "      <th>actual_train5</th>\n",
       "      <th>simulated_train5</th>\n",
       "    </tr>\n",
       "  </thead>\n",
       "  <tbody>\n",
       "    <tr>\n",
       "      <th>0</th>\n",
       "      <td>-55.140</td>\n",
       "      <td>-41.777514</td>\n",
       "    </tr>\n",
       "    <tr>\n",
       "      <th>1</th>\n",
       "      <td>-55.110</td>\n",
       "      <td>-34.667769</td>\n",
       "    </tr>\n",
       "    <tr>\n",
       "      <th>2</th>\n",
       "      <td>-55.090</td>\n",
       "      <td>-36.927611</td>\n",
       "    </tr>\n",
       "    <tr>\n",
       "      <th>3</th>\n",
       "      <td>-55.080</td>\n",
       "      <td>-42.737128</td>\n",
       "    </tr>\n",
       "    <tr>\n",
       "      <th>4</th>\n",
       "      <td>-55.250</td>\n",
       "      <td>-44.239053</td>\n",
       "    </tr>\n",
       "    <tr>\n",
       "      <th>...</th>\n",
       "      <td>...</td>\n",
       "      <td>...</td>\n",
       "    </tr>\n",
       "    <tr>\n",
       "      <th>166</th>\n",
       "      <td>-55.560</td>\n",
       "      <td>-69.915472</td>\n",
       "    </tr>\n",
       "    <tr>\n",
       "      <th>167</th>\n",
       "      <td>-55.660</td>\n",
       "      <td>-68.528511</td>\n",
       "    </tr>\n",
       "    <tr>\n",
       "      <th>168</th>\n",
       "      <td>-55.670</td>\n",
       "      <td>-62.252035</td>\n",
       "    </tr>\n",
       "    <tr>\n",
       "      <th>169</th>\n",
       "      <td>-55.615</td>\n",
       "      <td>-54.307277</td>\n",
       "    </tr>\n",
       "    <tr>\n",
       "      <th>170</th>\n",
       "      <td>-55.560</td>\n",
       "      <td>-56.506164</td>\n",
       "    </tr>\n",
       "  </tbody>\n",
       "</table>\n",
       "<p>171 rows × 2 columns</p>\n",
       "</div>"
      ],
      "text/plain": [
       "     actual_train5  simulated_train5\n",
       "0          -55.140        -41.777514\n",
       "1          -55.110        -34.667769\n",
       "2          -55.090        -36.927611\n",
       "3          -55.080        -42.737128\n",
       "4          -55.250        -44.239053\n",
       "..             ...               ...\n",
       "166        -55.560        -69.915472\n",
       "167        -55.660        -68.528511\n",
       "168        -55.670        -62.252035\n",
       "169        -55.615        -54.307277\n",
       "170        -55.560        -56.506164\n",
       "\n",
       "[171 rows x 2 columns]"
      ]
     },
     "execution_count": 21,
     "metadata": {},
     "output_type": "execute_result"
    }
   ],
   "source": [
    "dftrain5"
   ]
  },
  {
   "cell_type": "markdown",
   "metadata": {},
   "source": [
    "## 6.3 Performace metrics training"
   ]
  },
  {
   "cell_type": "code",
   "execution_count": 22,
   "metadata": {},
   "outputs": [
    {
     "name": "stdout",
     "output_type": "stream",
     "text": [
      "Root Mean Squared Error: 10.991195581644737\n",
      "r2_score: -255.44727524595623\n",
      "Nash Sutcliffe efficiency coefficient: -0.14264466313418134\n"
     ]
    }
   ],
   "source": [
    "# Performance metrics training \n",
    "from sklearn.metrics import mean_squared_error\n",
    "from sklearn import metrics\n",
    "from sklearn.metrics import r2_score\n",
    "import math\n",
    "import numpy as np\n",
    "actual_train5 = dftrain5['actual_train5']\n",
    "simulated_train5 = dftrain5['simulated_train5']\n",
    "\n",
    "#MAE=metrics.mean_absolute_error (actual_train, simulated_train)\n",
    "#print('Mean Absolute Error:', MAE)\n",
    "\n",
    "#MedianAE=metrics.mean_squared_error (actual_train, simulated_train)\n",
    "#print('Mean Squared Error:', MedianAE)\n",
    "\n",
    "RMSE=np.sqrt(metrics.mean_squared_error(actual_train5, simulated_train5))\n",
    "print ('Root Mean Squared Error:',RMSE)\n",
    "\n",
    "#RMSEr=np.sqrt(sum((actual_train5-simulated_train5)/actual_train5)**2)/300\n",
    "#print('Relative Root Mean Squared Error:',RMSEr)\n",
    "\n",
    "r2_score=metrics.r2_score(actual_train5, simulated_train5)\n",
    "print('r2_score:', r2_score)\n",
    "\n",
    "\n",
    "#Nash Sutcliffe efficiency coefficient\n",
    "NSE= 1 - sum((actual_train5-simulated_train5)**2)/sum((simulated_train5-np.mean(simulated_train5))**2)\n",
    "print('Nash Sutcliffe efficiency coefficient:', NSE)\n",
    "\n"
   ]
  },
  {
   "cell_type": "markdown",
   "metadata": {},
   "source": [
    "## 7. Hyperparameter tuning on validation data set "
   ]
  },
  {
   "cell_type": "code",
   "execution_count": null,
   "metadata": {},
   "outputs": [],
   "source": [
    "param_search = {'hidden_layer_sizes': [i for i in range(100,150)],\n",
    "              'activation': ['relu'],\n",
    "              'solver': ['adam'],\n",
    "              'learning_rate': ['constant'],\n",
    "              'learning_rate_init': [0.001],\n",
    "              'power_t': [0.5],\n",
    "              'alpha': [0.0001],\n",
    "              'max_iter': [1000],\n",
    "              'early_stopping': [True],\n",
    "              'warm_start': [False]}\n",
    "\n",
    "\n"
   ]
  },
  {
   "cell_type": "markdown",
   "metadata": {},
   "source": [
    "from sklearn.model_selection import TimeSeriesSplit, GridSearchCV\n",
    "tscv = TimeSeriesSplit(n_splits=3)\n",
    "gsearch = GridSearchCV(estimator=rf5, cv=tscv,\n",
    "                        param_grid=param_search)\n",
    "gsearch.fit(Xval5, yval5.ravel())"
   ]
  },
  {
   "cell_type": "markdown",
   "metadata": {},
   "source": [
    "gsearch.best_params_"
   ]
  },
  {
   "cell_type": "code",
   "execution_count": null,
   "metadata": {},
   "outputs": [],
   "source": [
    "clf5 = MLPRegressor(random_state=42)\n",
    "from sklearn.model_selection import TimeSeriesSplit, GridSearchCV\n",
    "tscv = TimeSeriesSplit(n_splits=3)\n",
    "\n",
    "model5 = GridSearchCV(estimator = clf5, param_grid = param_search, \n",
    "                               cv = tscv, verbose= 5, n_jobs = -1)\n",
    "model5.fit(Xval5,yval5)\n",
    "\n",
    "#predictionforest = model.best_estimator_.predict(X_Test)"
   ]
  },
  {
   "cell_type": "code",
   "execution_count": null,
   "metadata": {},
   "outputs": [],
   "source": [
    "model5.best_params_\n"
   ]
  },
  {
   "cell_type": "code",
   "execution_count": null,
   "metadata": {},
   "outputs": [],
   "source": [
    "trainforest5= model5.best_estimator_.fit(Xtrain5, ytrain5)\n"
   ]
  },
  {
   "cell_type": "code",
   "execution_count": null,
   "metadata": {},
   "outputs": [],
   "source": []
  },
  {
   "cell_type": "markdown",
   "metadata": {},
   "source": [
    "## Predict with new parameter"
   ]
  },
  {
   "cell_type": "code",
   "execution_count": null,
   "metadata": {},
   "outputs": [],
   "source": [
    "predictionforest5= model5.best_estimator_.predict(Xtest5)"
   ]
  },
  {
   "cell_type": "code",
   "execution_count": null,
   "metadata": {},
   "outputs": [],
   "source": [
    "prediction5 = pd.Series(predictionforest5, index=ytest5.index)"
   ]
  },
  {
   "cell_type": "code",
   "execution_count": null,
   "metadata": {},
   "outputs": [],
   "source": [
    "ytest5.plot(label='observed prediction target')\n",
    "prediction5.plot(label='simulated prediction', color='chocolate',linestyle='dashed')\n",
    "#plt.suptitle(' GWL Timeseries Prediction for Well A2N0553')\n",
    "plt.xlabel('date')\n",
    "plt.ylabel('Groundwater levels (mbgl)')\n",
    "\n",
    "plt.gcf().subplots_adjust(left=0.15,bottom=0.15)\n",
    "plt.legend(loc = 'best')\n",
    "\n",
    "plt.gcf().set_size_inches(10,3)\n",
    "\n",
    "#plt.savefig(r'C:\\Users\\Kirsty\\Desktop\\Sprediction')"
   ]
  },
  {
   "cell_type": "markdown",
   "metadata": {},
   "source": [
    "## Create a data frame on test ovserved and simulated "
   ]
  },
  {
   "cell_type": "code",
   "execution_count": null,
   "metadata": {},
   "outputs": [],
   "source": [
    "actual_test5 =np.array(ytest5)\n",
    "simulated_test5 =np.array(prediction5)\n",
    "\n",
    "dataset_val = pd.DataFrame({'actual_test5': actual_test5, 'simulated_test5': list(simulated_test5)}, columns=['actual_test5', 'simulated_test5'])"
   ]
  },
  {
   "cell_type": "code",
   "execution_count": null,
   "metadata": {},
   "outputs": [],
   "source": [
    "# Performance metrics training \n",
    "from sklearn.metrics import mean_squared_error\n",
    "from sklearn import metrics\n",
    "from sklearn.metrics import r2_score\n",
    "import math\n",
    "import numpy as np\n",
    "actual_val = dataset_val['actual_test5']\n",
    "simulated_val = dataset_val['simulated_test5']\n",
    "\n",
    "#MAE=metrics.mean_absolute_error (actual_val, simulated_val)\n",
    "#print('Mean Absolute Error:', MAE)\n",
    "\n",
    "#MedianAE=metrics.mean_squared_error (actual_val, simulated_val)\n",
    "#print('Mean Squared Error:', MedianAE)\n",
    "\n",
    "RMSE=np.sqrt(metrics.mean_squared_error(actual_val, simulated_val))\n",
    "print ('Root Mean Squared Error:',RMSE)\n",
    "\n",
    "#RMSEr=np.sqrt(sum((actual-simulated)/actual)**2)/300\n",
    "#print('Relative Root Mean Squared Error:',RMSEr)\n",
    "\n",
    "r2_score=metrics.r2_score(actual_val, simulated_val)\n",
    "print('r2_score:', r2_score)\n",
    "\n",
    "\n",
    "#Nash Sutcliffe efficiency coefficient\n",
    "NSE= 1 - sum((actual_val-simulated_val)**2)/sum((simulated_val-np.mean(simulated_val))**2)\n",
    "print('Nash Sutcliffe efficiency coefficient:', NSE)\n"
   ]
  },
  {
   "cell_type": "markdown",
   "metadata": {},
   "source": [
    "## Plotting test and train together "
   ]
  },
  {
   "cell_type": "code",
   "execution_count": null,
   "metadata": {},
   "outputs": [],
   "source": [
    "\n",
    "ytest5.plot(label='observed prediction target')\n",
    "prediction5.plot(label='simulated prediction', color='chocolate',linestyle='dashed')\n",
    "\n",
    "ytrain5.plot(label='observed training target', color='royalblue')\n",
    "training5.plot(label='simulated output', color='chocolate')\n",
    "\n",
    "#plt.suptitle(' GWL Timeseries for Well A2N0553')\n",
    "plt.xlabel('date')\n",
    "plt.ylabel('Groundwater levels (mbgl)')\n",
    "\n",
    "\n",
    "plt.gcf().set_size_inches(10,3)\n",
    "\n",
    "plt.legend(loc = \"best\")\n",
    "\n",
    "#plt.savefig(r'C:\\Users\\Kirsty\\Desktop\\Steenkoppies Data\\1. GWL background decline\\A2N0617\\together_rainfall A2N0617 _train'"
   ]
  },
  {
   "cell_type": "code",
   "execution_count": null,
   "metadata": {},
   "outputs": [],
   "source": []
  },
  {
   "cell_type": "markdown",
   "metadata": {},
   "source": [
    "## train test validation split 60%"
   ]
  },
  {
   "cell_type": "markdown",
   "metadata": {},
   "source": [
    "change values here "
   ]
  },
  {
   "cell_type": "code",
   "execution_count": null,
   "metadata": {},
   "outputs": [],
   "source": [
    "#'GWL','Rainfall','Temperature','River Discharge','Groundwater usage'\n",
    "\n",
    "ytrain6 = data['GWL'].iloc[:206]\n",
    "Xtrain6 = data.loc[:, ['Rainfall','Temperature','River Discharge','Groundwater usage'\n",
    "]].iloc[:206, :]\n",
    "\n",
    "ytest6 = data['GWL'].iloc[206:240]\n",
    "Xtest6  = data.loc[:, ['Rainfall','Temperature','River Discharge','Groundwater usage'\n",
    "]].iloc[206:240, :]\n",
    "\n",
    "yval6  = data['GWL'].iloc[240:274]\n",
    "Xval6 = data.loc[:, ['Rainfall','Temperature','River Discharge','Groundwater usage'\n",
    "]].iloc[240:274, :]"
   ]
  },
  {
   "cell_type": "code",
   "execution_count": null,
   "metadata": {},
   "outputs": [],
   "source": [
    "print(ytrain6.shape,Xtrain6.shape,  \n",
    "      ytest6.shape,Xtest6.shape, \n",
    "      yval6.shape,Xval6.shape)"
   ]
  },
  {
   "cell_type": "markdown",
   "metadata": {},
   "source": [
    "## 5. Call model"
   ]
  },
  {
   "cell_type": "code",
   "execution_count": null,
   "metadata": {},
   "outputs": [],
   "source": [
    "\n",
    "#random.seed(1234)\n",
    "from sklearn.ensemble import RandomForestRegressor\n",
    "from numpy import *\n",
    "\n",
    "random.seed(42)\n",
    "rf6 = MLPRegressor(random_state = 42)\n",
    "       \n",
    "\n"
   ]
  },
  {
   "cell_type": "markdown",
   "metadata": {},
   "source": [
    "## 6. Train the model on training data"
   ]
  },
  {
   "cell_type": "code",
   "execution_count": null,
   "metadata": {},
   "outputs": [],
   "source": [
    "rf6.fit(Xtrain6, ytrain6)"
   ]
  },
  {
   "cell_type": "markdown",
   "metadata": {},
   "source": [
    "## 6.1 Plot tests results "
   ]
  },
  {
   "cell_type": "code",
   "execution_count": null,
   "metadata": {},
   "outputs": [],
   "source": [
    "training6= rf6.predict(Xtrain6)\n",
    "training6 = pd.Series(training6, index=ytrain6.index)"
   ]
  },
  {
   "cell_type": "code",
   "execution_count": null,
   "metadata": {},
   "outputs": [],
   "source": [
    "#plot test data \n",
    "ytrain6.plot(label='observed training target', color='royalblue')\n",
    "training6.plot(label='simulated output', color='chocolate')\n",
    "#plt.suptitle(' GWL Timeseries for Well A2N0553')\n",
    "plt.xlabel('date')\n",
    "plt.ylabel('Groundwater levels (mbgl)')\n",
    "\n",
    "plt.rcParams.update(plt.rcParamsDefault)\n",
    "\n",
    "plt.gcf().set_size_inches(10,3)\n",
    "\n",
    "plt.legend(loc = 'best')\n",
    "\n",
    "#plt.savefig(r'C:\\Users\\Kirsty\\Desktop\\Steenkoppies Data\\1. GWL background decline\\A2N0617\\together_rainfall A2N0617 _train')"
   ]
  },
  {
   "cell_type": "markdown",
   "metadata": {},
   "source": [
    "## 6.2 Create data frame from training observed and simulated data"
   ]
  },
  {
   "cell_type": "code",
   "execution_count": null,
   "metadata": {},
   "outputs": [],
   "source": [
    "actual_train6=np.array(ytrain6)\n",
    "simulated_train6 =np.array(training6)\n",
    " \n",
    "dftrain6= pd.DataFrame({'actual_train6': actual_train6, 'simulated_train6': list(simulated_train6)}, columns=['actual_train6', 'simulated_train6'])"
   ]
  },
  {
   "cell_type": "code",
   "execution_count": null,
   "metadata": {},
   "outputs": [],
   "source": [
    "dftrain6"
   ]
  },
  {
   "cell_type": "markdown",
   "metadata": {},
   "source": [
    "## 6.3 Performace metrics training"
   ]
  },
  {
   "cell_type": "code",
   "execution_count": null,
   "metadata": {},
   "outputs": [],
   "source": [
    "# Performance metrics training \n",
    "from sklearn.metrics import mean_squared_error\n",
    "from sklearn import metrics\n",
    "from sklearn.metrics import r2_score\n",
    "import math\n",
    "import numpy as np\n",
    "actual_train6 = dftrain6['actual_train6']\n",
    "simulated_train6 = dftrain6['simulated_train6']\n",
    "\n",
    "#MAE=metrics.mean_absolute_error (actual_train, simulated_train)\n",
    "#print('Mean Absolute Error:', MAE)\n",
    "\n",
    "#MedianAE=metrics.mean_squared_error (actual_train, simulated_train)\n",
    "#print('Mean Squared Error:', MedianAE)\n",
    "\n",
    "RMSE=np.sqrt(metrics.mean_squared_error(actual_train6, simulated_train6))\n",
    "print ('Root Mean Squared Error:',RMSE)\n",
    "\n",
    "#RMSEr=np.sqrt(sum((actual_train5-simulated_train5)/actual_train5)**2)/300\n",
    "#print('Relative Root Mean Squared Error:',RMSEr)\n",
    "\n",
    "r2_score=metrics.r2_score(actual_train6, simulated_train6)\n",
    "print('r2_score:', r2_score)\n",
    "\n",
    "\n",
    "#Nash Sutcliffe efficiency coefficient\n",
    "NSE= 1 - sum((actual_train6-simulated_train6)**2)/sum((simulated_train6-np.mean(simulated_train6))**2)\n",
    "print('Nash Sutcliffe efficiency coefficient:', NSE)\n",
    "\n"
   ]
  },
  {
   "cell_type": "markdown",
   "metadata": {},
   "source": [
    "## 7. Hyperparameter tuning on validation data set "
   ]
  },
  {
   "cell_type": "code",
   "execution_count": null,
   "metadata": {},
   "outputs": [],
   "source": [
    "param_search = {'hidden_layer_sizes': [i for i in range(100,150)],\n",
    "              'activation': ['relu'],\n",
    "              'solver': ['adam'],\n",
    "              'learning_rate': ['constant'],\n",
    "              'learning_rate_init': [0.001],\n",
    "              'power_t': [0.5],\n",
    "              'alpha': [0.0001],\n",
    "              'max_iter': [1000],\n",
    "              'early_stopping': [True],\n",
    "              'warm_start': [False]}\n",
    "\n"
   ]
  },
  {
   "cell_type": "markdown",
   "metadata": {},
   "source": [
    "from sklearn.model_selection import TimeSeriesSplit, GridSearchCV\n",
    "tscv = TimeSeriesSplit(n_splits=3)\n",
    "gsearch = GridSearchCV(estimator=rf5, cv=tscv,\n",
    "                        param_grid=param_search)\n",
    "gsearch.fit(Xval5, yval5.ravel())"
   ]
  },
  {
   "cell_type": "markdown",
   "metadata": {},
   "source": [
    "gsearch.best_params_"
   ]
  },
  {
   "cell_type": "code",
   "execution_count": null,
   "metadata": {},
   "outputs": [],
   "source": [
    "clf6 = MLPRegressor(random_state = 42)\n",
    "from sklearn.model_selection import TimeSeriesSplit, GridSearchCV\n",
    "tscv = TimeSeriesSplit(n_splits=3)\n",
    "\n",
    "model6 = GridSearchCV(estimator = clf6, param_grid = param_search, \n",
    "                               cv = tscv, verbose= 5, n_jobs = -1)\n",
    "model6.fit(Xval6,yval6)\n",
    "\n",
    "#predictionforest = model.best_estimator_.predict(X_Test)"
   ]
  },
  {
   "cell_type": "code",
   "execution_count": null,
   "metadata": {},
   "outputs": [],
   "source": [
    "model6.best_params_\n"
   ]
  },
  {
   "cell_type": "code",
   "execution_count": null,
   "metadata": {},
   "outputs": [],
   "source": [
    "trainforest6= model6.best_estimator_.fit(Xtrain6, ytrain6)\n"
   ]
  },
  {
   "cell_type": "code",
   "execution_count": null,
   "metadata": {},
   "outputs": [],
   "source": []
  },
  {
   "cell_type": "markdown",
   "metadata": {},
   "source": [
    "## Predict with new parameter"
   ]
  },
  {
   "cell_type": "code",
   "execution_count": null,
   "metadata": {},
   "outputs": [],
   "source": [
    "predictionforest6= model6.best_estimator_.predict(Xtest6)"
   ]
  },
  {
   "cell_type": "code",
   "execution_count": null,
   "metadata": {},
   "outputs": [],
   "source": [
    "prediction6 = pd.Series(predictionforest6, index=ytest6.index)"
   ]
  },
  {
   "cell_type": "code",
   "execution_count": null,
   "metadata": {},
   "outputs": [],
   "source": [
    "ytest6.plot(label='observed prediction target')\n",
    "prediction6.plot(label='simulated prediction', color='chocolate',linestyle='dashed')\n",
    "#plt.suptitle(' GWL Timeseries Prediction for Well A2N0553')\n",
    "plt.xlabel('date')\n",
    "plt.ylabel('Groundwater levels (mbgl)')\n",
    "\n",
    "plt.gcf().subplots_adjust(left=0.15,bottom=0.15)\n",
    "plt.legend(loc = 'best')\n",
    "\n",
    "plt.gcf().set_size_inches(10,3)\n",
    "\n",
    "#plt.savefig(r'C:\\Users\\Kirsty\\Desktop\\Sprediction')"
   ]
  },
  {
   "cell_type": "markdown",
   "metadata": {},
   "source": [
    "## Create a data frame on test ovserved and simulated "
   ]
  },
  {
   "cell_type": "code",
   "execution_count": null,
   "metadata": {},
   "outputs": [],
   "source": [
    "actual_test6 =np.array(ytest6)\n",
    "simulated_test6 =np.array(prediction6)\n",
    "\n",
    "dataset_val = pd.DataFrame({'actual_test6': actual_test6, 'simulated_test6': list(simulated_test6)}, columns=['actual_test6', 'simulated_test6'])"
   ]
  },
  {
   "cell_type": "code",
   "execution_count": null,
   "metadata": {},
   "outputs": [],
   "source": [
    "# Performance metrics training \n",
    "from sklearn.metrics import mean_squared_error\n",
    "from sklearn import metrics\n",
    "from sklearn.metrics import r2_score\n",
    "import math\n",
    "import numpy as np\n",
    "actual_val = dataset_val['actual_test6']\n",
    "simulated_val = dataset_val['simulated_test6']\n",
    "\n",
    "#MAE=metrics.mean_absolute_error (actual_val, simulated_val)\n",
    "#print('Mean Absolute Error:', MAE)\n",
    "\n",
    "#MedianAE=metrics.mean_squared_error (actual_val, simulated_val)\n",
    "#print('Mean Squared Error:', MedianAE)\n",
    "\n",
    "RMSE=np.sqrt(metrics.mean_squared_error(actual_val, simulated_val))\n",
    "print ('Root Mean Squared Error:',RMSE)\n",
    "\n",
    "#RMSEr=np.sqrt(sum((actual-simulated)/actual)**2)/300\n",
    "#print('Relative Root Mean Squared Error:',RMSEr)\n",
    "\n",
    "r2_score=metrics.r2_score(actual_val, simulated_val)\n",
    "print('r2_score:', r2_score)\n",
    "\n",
    "\n",
    "#Nash Sutcliffe efficiency coefficient\n",
    "NSE= 1 - sum((actual_val-simulated_val)**2)/sum((simulated_val-np.mean(simulated_val))**2)\n",
    "print('Nash Sutcliffe efficiency coefficient:', NSE)\n"
   ]
  },
  {
   "cell_type": "markdown",
   "metadata": {},
   "source": [
    "## Plotting test and train together "
   ]
  },
  {
   "cell_type": "code",
   "execution_count": null,
   "metadata": {},
   "outputs": [],
   "source": [
    "\n",
    "ytest6.plot(label='observed prediction target')\n",
    "prediction6.plot(label='simulated prediction', color='chocolate',linestyle='dashed')\n",
    "\n",
    "ytrain6.plot(label='observed training target', color='royalblue')\n",
    "training6.plot(label='simulated output', color='chocolate')\n",
    "\n",
    "#plt.suptitle(' GWL Timeseries for Well A2N0553')\n",
    "plt.xlabel('date')\n",
    "plt.ylabel('Groundwater levels (mbgl)')\n",
    "\n",
    "plt.gcf().set_size_inches(10,3)\n",
    "\n",
    "plt.legend(loc = \"best\")\n",
    "\n",
    "#plt.savefig(r'C:\\Users\\Kirsty\\Desktop\\Steenkoppies Data\\1. GWL background decline\\A2N0617\\together_rainfall A2N0617 _train'"
   ]
  },
  {
   "cell_type": "code",
   "execution_count": null,
   "metadata": {},
   "outputs": [],
   "source": []
  },
  {
   "cell_type": "markdown",
   "metadata": {},
   "source": [
    "## train test validation split 70%"
   ]
  },
  {
   "cell_type": "markdown",
   "metadata": {},
   "source": [
    "change values here "
   ]
  },
  {
   "cell_type": "code",
   "execution_count": null,
   "metadata": {},
   "outputs": [],
   "source": [
    "#'GWL','Rainfall','Temperature','River Discharge','Groundwater usage'\n",
    "\n",
    "ytrain7 = data['GWL'].iloc[:240]\n",
    "Xtrain7 = data.loc[:, ['Rainfall','Temperature','River Discharge','Groundwater usage'\n",
    "]].iloc[:240, :]\n",
    "\n",
    "ytest7 = data['GWL'].iloc[240:274]\n",
    "Xtest7  = data.loc[:, ['Rainfall','Temperature','River Discharge','Groundwater usage'\n",
    "]].iloc[240:274, :]\n",
    "\n",
    "yval7  = data['GWL'].iloc[274:308]\n",
    "Xval7 = data.loc[:, ['Rainfall','Temperature','River Discharge','Groundwater usage'\n",
    "]].iloc[274:308, :]"
   ]
  },
  {
   "cell_type": "code",
   "execution_count": null,
   "metadata": {},
   "outputs": [],
   "source": [
    "print(ytrain7.shape,Xtrain7.shape,  \n",
    "      ytest7.shape,Xtest7.shape, \n",
    "      yval7.shape,Xval7.shape)"
   ]
  },
  {
   "cell_type": "markdown",
   "metadata": {},
   "source": [
    "## 5. Call model"
   ]
  },
  {
   "cell_type": "code",
   "execution_count": null,
   "metadata": {},
   "outputs": [],
   "source": [
    "\n",
    "#random.seed(1234)\n",
    "from sklearn.ensemble import RandomForestRegressor\n",
    "from numpy import *\n",
    "\n",
    "random.seed(42)\n",
    "rf7 = MLPRegressor(random_state = 42)\n",
    "\n"
   ]
  },
  {
   "cell_type": "markdown",
   "metadata": {},
   "source": [
    "## 6. Train the model on training data"
   ]
  },
  {
   "cell_type": "code",
   "execution_count": null,
   "metadata": {},
   "outputs": [],
   "source": [
    "rf7.fit(Xtrain7, ytrain7)"
   ]
  },
  {
   "cell_type": "markdown",
   "metadata": {},
   "source": [
    "## 6.1 Plot tests results "
   ]
  },
  {
   "cell_type": "code",
   "execution_count": null,
   "metadata": {},
   "outputs": [],
   "source": [
    "training7= rf7.predict(Xtrain7)\n",
    "training7 = pd.Series(training7, index=ytrain7.index)"
   ]
  },
  {
   "cell_type": "code",
   "execution_count": null,
   "metadata": {},
   "outputs": [],
   "source": [
    "#plot test data \n",
    "ytrain7.plot(label='observed training target', color='royalblue')\n",
    "training7.plot(label='simulated output', color='chocolate')\n",
    "#plt.suptitle(' GWL Timeseries for Well A2N0553')\n",
    "plt.xlabel('date')\n",
    "plt.ylabel('Groundwater levels (mbgl)')\n",
    "\n",
    "plt.gcf().set_size_inches(10,3)\n",
    "\n",
    "plt.legend(loc = 'best')\n",
    "\n",
    "#plt.savefig(r'C:\\Users\\Kirsty\\Desktop\\Steenkoppies Data\\1. GWL background decline\\A2N0617\\together_rainfall A2N0617 _train')"
   ]
  },
  {
   "cell_type": "markdown",
   "metadata": {},
   "source": [
    "## 6.2 Create data frame from training observed and simulated data"
   ]
  },
  {
   "cell_type": "code",
   "execution_count": null,
   "metadata": {},
   "outputs": [],
   "source": [
    "actual_train7=np.array(ytrain7)\n",
    "simulated_train7 =np.array(training7)\n",
    " \n",
    "dftrain7= pd.DataFrame({'actual_train7': actual_train7, 'simulated_train7': list(simulated_train7)}, columns=['actual_train7', 'simulated_train7'])"
   ]
  },
  {
   "cell_type": "code",
   "execution_count": null,
   "metadata": {},
   "outputs": [],
   "source": [
    "dftrain7"
   ]
  },
  {
   "cell_type": "markdown",
   "metadata": {},
   "source": [
    "## 6.3 Performace metrics training"
   ]
  },
  {
   "cell_type": "code",
   "execution_count": null,
   "metadata": {},
   "outputs": [],
   "source": [
    "# Performance metrics training \n",
    "from sklearn.metrics import mean_squared_error\n",
    "from sklearn import metrics\n",
    "from sklearn.metrics import r2_score\n",
    "import math\n",
    "import numpy as np\n",
    "actual_train7 = dftrain7['actual_train7']\n",
    "simulated_train7 = dftrain7['simulated_train7']\n",
    "\n",
    "#MAE=metrics.mean_absolute_error (actual_train, simulated_train)\n",
    "#print('Mean Absolute Error:', MAE)\n",
    "\n",
    "#MedianAE=metrics.mean_squared_error (actual_train, simulated_train)\n",
    "#print('Mean Squared Error:', MedianAE)\n",
    "\n",
    "RMSE=np.sqrt(metrics.mean_squared_error(actual_train7, simulated_train7))\n",
    "print ('Root Mean Squared Error:',RMSE)\n",
    "\n",
    "#RMSEr=np.sqrt(sum((actual_train5-simulated_train5)/actual_train5)**2)/300\n",
    "#print('Relative Root Mean Squared Error:',RMSEr)\n",
    "\n",
    "r2_score=metrics.r2_score(actual_train7, simulated_train7)\n",
    "print('r2_score:', r2_score)\n",
    "\n",
    "\n",
    "#Nash Sutcliffe efficiency coefficient\n",
    "NSE= 1 - sum((actual_train7-simulated_train7)**2)/sum((simulated_train7-np.mean(simulated_train7))**2)\n",
    "print('Nash Sutcliffe efficiency coefficient:', NSE)\n",
    "\n"
   ]
  },
  {
   "cell_type": "markdown",
   "metadata": {},
   "source": [
    "## 7. Hyperparameter tuning on validation data set "
   ]
  },
  {
   "cell_type": "code",
   "execution_count": null,
   "metadata": {},
   "outputs": [],
   "source": [
    "param_search = {'hidden_layer_sizes': [i for i in range(100,150)],\n",
    "              'activation': ['relu'],\n",
    "              'solver': ['adam'],\n",
    "              'learning_rate': ['constant'],\n",
    "              'learning_rate_init': [0.001],\n",
    "              'power_t': [0.5],\n",
    "              'alpha': [0.0001],\n",
    "              'max_iter': [1000],\n",
    "              'early_stopping': [True],\n",
    "              'warm_start': [False]}\n",
    "\n"
   ]
  },
  {
   "cell_type": "markdown",
   "metadata": {},
   "source": [
    "from sklearn.model_selection import TimeSeriesSplit, GridSearchCV\n",
    "tscv = TimeSeriesSplit(n_splits=3)\n",
    "gsearch = GridSearchCV(estimator=rf5, cv=tscv,\n",
    "                        param_grid=param_search)\n",
    "gsearch.fit(Xval5, yval5.ravel())"
   ]
  },
  {
   "cell_type": "markdown",
   "metadata": {},
   "source": [
    "gsearch.best_params_"
   ]
  },
  {
   "cell_type": "code",
   "execution_count": null,
   "metadata": {},
   "outputs": [],
   "source": [
    "clf7 = MLPRegressor(random_state = 42)\n",
    "from sklearn.model_selection import TimeSeriesSplit, GridSearchCV\n",
    "tscv = TimeSeriesSplit(n_splits=3)\n",
    "\n",
    "model7 = GridSearchCV(estimator = clf7, param_grid = param_search, \n",
    "                               cv = tscv, verbose= 5, n_jobs = -1)\n",
    "model7.fit(Xval7,yval7)\n",
    "\n",
    "#predictionforest = model.best_estimator_.predict(X_Test)"
   ]
  },
  {
   "cell_type": "code",
   "execution_count": null,
   "metadata": {},
   "outputs": [],
   "source": [
    "model6.best_params_\n"
   ]
  },
  {
   "cell_type": "code",
   "execution_count": null,
   "metadata": {},
   "outputs": [],
   "source": [
    "trainforest7= model7.best_estimator_.fit(Xtrain7, ytrain7)\n"
   ]
  },
  {
   "cell_type": "code",
   "execution_count": null,
   "metadata": {},
   "outputs": [],
   "source": []
  },
  {
   "cell_type": "markdown",
   "metadata": {},
   "source": [
    "## Predict with new parameter"
   ]
  },
  {
   "cell_type": "code",
   "execution_count": null,
   "metadata": {},
   "outputs": [],
   "source": [
    "predictionforest7= model7.best_estimator_.predict(Xtest7)"
   ]
  },
  {
   "cell_type": "code",
   "execution_count": null,
   "metadata": {},
   "outputs": [],
   "source": [
    "prediction7 = pd.Series(predictionforest7, index=ytest7.index)"
   ]
  },
  {
   "cell_type": "code",
   "execution_count": null,
   "metadata": {},
   "outputs": [],
   "source": [
    "ytest7.plot(label='observed prediction target')\n",
    "prediction7.plot(label='simulated prediction', color='chocolate',linestyle='dashed')\n",
    "#plt.suptitle(' GWL Timeseries Prediction for Well A2N0553')\n",
    "plt.xlabel('date')\n",
    "plt.ylabel('Groundwater levels (mbgl)')\n",
    "\n",
    "plt.gcf().subplots_adjust(left=0.15,bottom=0.15)\n",
    "plt.legend(loc = 'best')\n",
    "\n",
    "plt.gcf().set_size_inches(10,3)\n",
    "\n",
    "#plt.savefig(r'C:\\Users\\Kirsty\\Desktop\\Sprediction')"
   ]
  },
  {
   "cell_type": "markdown",
   "metadata": {},
   "source": [
    "## Create a data frame on test ovserved and simulated "
   ]
  },
  {
   "cell_type": "code",
   "execution_count": null,
   "metadata": {},
   "outputs": [],
   "source": [
    "actual_test7=np.array(ytest7)\n",
    "simulated_test7=np.array(prediction7)\n",
    "\n",
    "dataset_val = pd.DataFrame({'actual_test7': actual_test7, 'simulated_test7': list(simulated_test7)}, columns=['actual_test7', 'simulated_test7'])"
   ]
  },
  {
   "cell_type": "code",
   "execution_count": null,
   "metadata": {},
   "outputs": [],
   "source": [
    "# Performance metrics training \n",
    "from sklearn.metrics import mean_squared_error\n",
    "from sklearn import metrics\n",
    "from sklearn.metrics import r2_score\n",
    "import math\n",
    "import numpy as np\n",
    "actual_val = dataset_val['actual_test7']\n",
    "simulated_val = dataset_val['simulated_test7']\n",
    "\n",
    "#MAE=metrics.mean_absolute_error (actual_val, simulated_val)\n",
    "#print('Mean Absolute Error:', MAE)\n",
    "\n",
    "#MedianAE=metrics.mean_squared_error (actual_val, simulated_val)\n",
    "#print('Mean Squared Error:', MedianAE)\n",
    "\n",
    "RMSE=np.sqrt(metrics.mean_squared_error(actual_val, simulated_val))\n",
    "print ('Root Mean Squared Error:',RMSE)\n",
    "\n",
    "#RMSEr=np.sqrt(sum((actual-simulated)/actual)**2)/300\n",
    "#print('Relative Root Mean Squared Error:',RMSEr)\n",
    "\n",
    "r2_score=metrics.r2_score(actual_val, simulated_val)\n",
    "print('r2_score:', r2_score)\n",
    "\n",
    "\n",
    "#Nash Sutcliffe efficiency coefficient\n",
    "NSE= 1 - sum((actual_val-simulated_val)**2)/sum((simulated_val-np.mean(simulated_val))**2)\n",
    "print('Nash Sutcliffe efficiency coefficient:', NSE)\n"
   ]
  },
  {
   "cell_type": "markdown",
   "metadata": {},
   "source": [
    "## Plotting test and train together "
   ]
  },
  {
   "cell_type": "code",
   "execution_count": null,
   "metadata": {
    "scrolled": true
   },
   "outputs": [],
   "source": [
    "\n",
    "ytest7.plot(label='observed prediction target')\n",
    "prediction7.plot(label='simulated prediction', color='chocolate',linestyle='dashed')\n",
    "\n",
    "ytrain7.plot(label='observed training target', color='royalblue')\n",
    "training7.plot(label='simulated output', color='chocolate')\n",
    "\n",
    "#plt.suptitle(' GWL Timeseries for Well A2N0553')\n",
    "plt.xlabel('date')\n",
    "plt.ylabel('Groundwater levels (mbgl)')\n",
    "\n",
    "plt.gcf().set_size_inches(10,3)\n",
    "\n",
    "plt.legend(loc = \"best\")\n",
    "\n",
    "#plt.savefig(r'C:\\Users\\Kirsty\\Desktop\\Steenkoppies Data\\1. GWL background decline\\A2N0617\\together_rainfall A2N0617 _train'"
   ]
  },
  {
   "cell_type": "markdown",
   "metadata": {},
   "source": [
    "## 4. Split data: Train, test, val split 80%, 10%,10% "
   ]
  },
  {
   "cell_type": "markdown",
   "metadata": {},
   "source": [
    "change values here "
   ]
  },
  {
   "cell_type": "code",
   "execution_count": null,
   "metadata": {},
   "outputs": [],
   "source": [
    "#'GWL','Rainfall','Temperature','River Discharge','Groundwater usage'\n",
    "\n",
    "ytrain8= data['GWL'].iloc[:275]\n",
    "Xtrain8 = data.loc[:, ['Rainfall','Temperature','River Discharge','Groundwater usage'\n",
    "]].iloc[:275, :]\n",
    "\n",
    "ytest8 = data['GWL'].iloc[275:309]\n",
    "Xtest8 = data.loc[:, ['Rainfall','Temperature','River Discharge','Groundwater usage'\n",
    "]].iloc[275:309, :]\n",
    "\n",
    "yval8= data['GWL'].iloc[309:343]\n",
    "Xval8 = data.loc[:, ['Rainfall','Temperature','River Discharge','Groundwater usage'\n",
    "]].iloc[309:343, :]"
   ]
  },
  {
   "cell_type": "code",
   "execution_count": null,
   "metadata": {},
   "outputs": [],
   "source": [
    "print(ytrain8.shape,Xtrain8.shape,  \n",
    "      ytest8.shape,Xtest8.shape, \n",
    "      yval8.shape,Xval8.shape)"
   ]
  },
  {
   "cell_type": "markdown",
   "metadata": {},
   "source": [
    "## 5. Call model"
   ]
  },
  {
   "cell_type": "code",
   "execution_count": null,
   "metadata": {},
   "outputs": [],
   "source": [
    "\n",
    "#random.seed(1234)\n",
    "from sklearn.ensemble import RandomForestRegressor\n",
    "from numpy import *\n",
    "\n",
    "random.seed(42)\n",
    "rf8 = MLPRegressor(random_state = 42)\n"
   ]
  },
  {
   "cell_type": "markdown",
   "metadata": {},
   "source": [
    "## 6. Train the model on training data"
   ]
  },
  {
   "cell_type": "code",
   "execution_count": null,
   "metadata": {},
   "outputs": [],
   "source": [
    "rf8.fit(Xtrain8, ytrain8)"
   ]
  },
  {
   "cell_type": "markdown",
   "metadata": {},
   "source": [
    "## 6.1 Plot tests results "
   ]
  },
  {
   "cell_type": "code",
   "execution_count": null,
   "metadata": {},
   "outputs": [],
   "source": [
    "training8= rf8.predict(Xtrain8)\n",
    "training8= pd.Series(training8, index=ytrain8.index)"
   ]
  },
  {
   "cell_type": "code",
   "execution_count": null,
   "metadata": {},
   "outputs": [],
   "source": [
    "#plot test data \n",
    "ytrain8.plot(label='observed training target', color='royalblue')\n",
    "training8.plot(label='simulated output', color='chocolate')\n",
    "#plt.suptitle(' GWL Timeseries for Well A2N0553')\n",
    "plt.xlabel('date')\n",
    "plt.ylabel('Groundwater levels (mbgl)')\n",
    "\n",
    "plt.gcf().set_size_inches(10,3)\n",
    "\n",
    "plt.legend(loc = 'best')\n",
    "\n",
    "#plt.savefig(r'C:\\Users\\Kirsty\\Desktop\\Steenkoppies Data\\1. GWL background decline\\A2N0617\\together_rainfall A2N0617 _train')"
   ]
  },
  {
   "cell_type": "markdown",
   "metadata": {},
   "source": [
    "## 6.2 Create data frame from training observed and simulated data"
   ]
  },
  {
   "cell_type": "code",
   "execution_count": null,
   "metadata": {},
   "outputs": [],
   "source": [
    "actual_train8 =np.array(ytrain8)\n",
    "simulated_train8 =np.array(training8)\n",
    " \n",
    "dftrain8= pd.DataFrame({'actual_train8': actual_train8, 'simulated_train8': list(simulated_train8)}, columns=['actual_train8', 'simulated_train8'])"
   ]
  },
  {
   "cell_type": "code",
   "execution_count": null,
   "metadata": {},
   "outputs": [],
   "source": [
    "dftrain8"
   ]
  },
  {
   "cell_type": "markdown",
   "metadata": {},
   "source": [
    "## 6.3 Performace metrics training"
   ]
  },
  {
   "cell_type": "code",
   "execution_count": null,
   "metadata": {},
   "outputs": [],
   "source": [
    "# Performance metrics training \n",
    "from sklearn.metrics import mean_squared_error\n",
    "from sklearn import metrics\n",
    "from sklearn.metrics import r2_score\n",
    "import math\n",
    "import numpy as np\n",
    "actual_train5 = dftrain8['actual_train8']\n",
    "simulated_train5 = dftrain8['simulated_train8']\n",
    "\n",
    "#MAE=metrics.mean_absolute_error (actual_train, simulated_train)\n",
    "#print('Mean Absolute Error:', MAE)\n",
    "\n",
    "#MedianAE=metrics.mean_squared_error (actual_train, simulated_train)\n",
    "#print('Mean Squared Error:', MedianAE)\n",
    "\n",
    "RMSE=np.sqrt(metrics.mean_squared_error(actual_train5, simulated_train5))\n",
    "print ('Root Mean Squared Error:',RMSE)\n",
    "\n",
    "#RMSEr=np.sqrt(sum((actual_train5-simulated_train5)/actual_train5)**2)/300\n",
    "#print('Relative Root Mean Squared Error:',RMSEr)\n",
    "\n",
    "r2_score=metrics.r2_score(actual_train5, simulated_train5)\n",
    "print('r2_score:', r2_score)\n",
    "\n",
    "\n",
    "#Nash Sutcliffe efficiency coefficient\n",
    "NSE= 1 - sum((actual_train5-simulated_train5)**2)/sum((simulated_train5-np.mean(simulated_train5))**2)\n",
    "print('Nash Sutcliffe efficiency coefficient:', NSE)\n",
    "\n"
   ]
  },
  {
   "cell_type": "markdown",
   "metadata": {},
   "source": [
    "## 7. Hyperparameter tuning on validation data set "
   ]
  },
  {
   "cell_type": "code",
   "execution_count": null,
   "metadata": {},
   "outputs": [],
   "source": [
    "param_search = {'hidden_layer_sizes': [i for i in range(100,150)],\n",
    "              'activation': ['relu'],\n",
    "              'solver': ['adam'],\n",
    "              'learning_rate': ['constant'],\n",
    "              'learning_rate_init': [0.001],\n",
    "              'power_t': [0.5],\n",
    "              'alpha': [0.0001],\n",
    "              'max_iter': [1000],\n",
    "              'early_stopping': [True],\n",
    "              'warm_start': [False]}\n",
    "\n"
   ]
  },
  {
   "cell_type": "markdown",
   "metadata": {},
   "source": [
    "from sklearn.model_selection import TimeSeriesSplit, GridSearchCV\n",
    "tscv = TimeSeriesSplit(n_splits=3)\n",
    "gsearch = GridSearchCV(estimator=rf5, cv=tscv,\n",
    "                        param_grid=param_search)\n",
    "gsearch.fit(Xval5, yval5.ravel())"
   ]
  },
  {
   "cell_type": "markdown",
   "metadata": {},
   "source": [
    "gsearch.best_params_"
   ]
  },
  {
   "cell_type": "code",
   "execution_count": null,
   "metadata": {},
   "outputs": [],
   "source": [
    "clf8 = MLPRegressor(random_state = 42)\n",
    "from sklearn.model_selection import TimeSeriesSplit, GridSearchCV\n",
    "tscv = TimeSeriesSplit(n_splits=3)\n",
    "\n",
    "model8 = GridSearchCV(estimator = clf8, param_grid = param_search, \n",
    "                               cv = tscv, verbose= 5, n_jobs = -1)\n",
    "model8.fit(Xval8,yval8)\n",
    "\n",
    "#predictionforest = model.best_estimator_.predict(X_Test)"
   ]
  },
  {
   "cell_type": "code",
   "execution_count": null,
   "metadata": {},
   "outputs": [],
   "source": [
    "model8.best_params_\n"
   ]
  },
  {
   "cell_type": "code",
   "execution_count": null,
   "metadata": {},
   "outputs": [],
   "source": [
    "trainforest8= model8.best_estimator_.fit(Xtrain8, ytrain8)\n"
   ]
  },
  {
   "cell_type": "code",
   "execution_count": null,
   "metadata": {},
   "outputs": [],
   "source": []
  },
  {
   "cell_type": "markdown",
   "metadata": {},
   "source": [
    "## Predict with new parameter"
   ]
  },
  {
   "cell_type": "code",
   "execution_count": null,
   "metadata": {},
   "outputs": [],
   "source": [
    "predictionforest8= model8.best_estimator_.predict(Xtest8)"
   ]
  },
  {
   "cell_type": "code",
   "execution_count": null,
   "metadata": {},
   "outputs": [],
   "source": [
    "prediction8 = pd.Series(predictionforest8, index=ytest8.index)"
   ]
  },
  {
   "cell_type": "code",
   "execution_count": null,
   "metadata": {},
   "outputs": [],
   "source": [
    "ytest8.plot(label='observed prediction target')\n",
    "prediction8.plot(label='simulated prediction', color='chocolate',linestyle='dashed')\n",
    "#plt.suptitle(' GWL Timeseries Prediction for Well A2N0553')\n",
    "plt.xlabel('date')\n",
    "plt.ylabel('Groundwater levels (mbgl)')\n",
    "\n",
    "plt.gcf().subplots_adjust(left=0.15,bottom=0.15)\n",
    "plt.legend(loc = 'best')\n",
    "\n",
    "plt.gcf().set_size_inches(10,3)\n",
    "\n",
    "#plt.savefig(r'C:\\Users\\Kirsty\\Desktop\\Sprediction')"
   ]
  },
  {
   "cell_type": "markdown",
   "metadata": {},
   "source": [
    "## Create a data frame on test ovserved and simulated "
   ]
  },
  {
   "cell_type": "code",
   "execution_count": null,
   "metadata": {},
   "outputs": [],
   "source": [
    "actual_test8 =np.array(ytest8)\n",
    "simulated_test8 =np.array(prediction8)\n",
    "\n",
    "dataset_val = pd.DataFrame({'actual_test8': actual_test8, 'simulated_test8': list(simulated_test8)}, columns=['actual_test8', 'simulated_test8'])"
   ]
  },
  {
   "cell_type": "code",
   "execution_count": null,
   "metadata": {},
   "outputs": [],
   "source": [
    "# Performance metrics training \n",
    "from sklearn.metrics import mean_squared_error\n",
    "from sklearn import metrics\n",
    "from sklearn.metrics import r2_score\n",
    "import math\n",
    "import numpy as np\n",
    "actual_val = dataset_val['actual_test8']\n",
    "simulated_val = dataset_val['simulated_test8']\n",
    "\n",
    "#MAE=metrics.mean_absolute_error (actual_val, simulated_val)\n",
    "#print('Mean Absolute Error:', MAE)\n",
    "\n",
    "#MedianAE=metrics.mean_squared_error (actual_val, simulated_val)\n",
    "#print('Mean Squared Error:', MedianAE)\n",
    "\n",
    "RMSE=np.sqrt(metrics.mean_squared_error(actual_val, simulated_val))\n",
    "print ('Root Mean Squared Error:',RMSE)\n",
    "\n",
    "#RMSEr=np.sqrt(sum((actual-simulated)/actual)**2)/300\n",
    "#print('Relative Root Mean Squared Error:',RMSEr)\n",
    "\n",
    "r2_score=metrics.r2_score(actual_val, simulated_val)\n",
    "print('r2_score:', r2_score)\n",
    "\n",
    "\n",
    "#Nash Sutcliffe efficiency coefficient\n",
    "NSE= 1 - sum((actual_val-simulated_val)**2)/sum((simulated_val-np.mean(simulated_val))**2)\n",
    "print('Nash Sutcliffe efficiency coefficient:', NSE)\n"
   ]
  },
  {
   "cell_type": "markdown",
   "metadata": {},
   "source": [
    "## Plotting test and train together "
   ]
  },
  {
   "cell_type": "code",
   "execution_count": null,
   "metadata": {},
   "outputs": [],
   "source": [
    "\n",
    "ytest8.plot(label='observed prediction target')\n",
    "prediction8.plot(label='simulated prediction', color='chocolate',linestyle='dashed')\n",
    "\n",
    "ytrain8.plot(label='observed training target', color='royalblue')\n",
    "training8.plot(label='simulated output', color='chocolate')\n",
    "\n",
    "#plt.suptitle(' GWL Timeseries for Well A2N0553')\n",
    "plt.xlabel('date')\n",
    "plt.ylabel('Groundwater levels (mbgl)')\n",
    "\n",
    "plt.gcf().set_size_inches(10,3)\n",
    "\n",
    "plt.legend(loc = \"best\")\n",
    "\n",
    "#plt.savefig(r'C:\\Users\\Kirsty\\Desktop\\Steenkoppies Data\\1. GWL background decline\\A2N0617\\together_rainfall A2N0617 _train'"
   ]
  },
  {
   "cell_type": "code",
   "execution_count": null,
   "metadata": {},
   "outputs": [],
   "source": []
  }
 ],
 "metadata": {
  "kernelspec": {
   "display_name": "Python 3",
   "language": "python",
   "name": "python3"
  },
  "language_info": {
   "codemirror_mode": {
    "name": "ipython",
    "version": 3
   },
   "file_extension": ".py",
   "mimetype": "text/x-python",
   "name": "python",
   "nbconvert_exporter": "python",
   "pygments_lexer": "ipython3",
   "version": "3.7.6"
  }
 },
 "nbformat": 4,
 "nbformat_minor": 4
}
