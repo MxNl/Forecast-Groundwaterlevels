{
 "cells": [
  {
   "cell_type": "markdown",
   "metadata": {},
   "source": [
    "## Random Forest Test on GWL Timeseries in Steenkoppies A2N0612\n"
   ]
  },
  {
   "cell_type": "markdown",
   "metadata": {},
   "source": [
    "## 1. import libraries"
   ]
  },
  {
   "cell_type": "code",
   "execution_count": 1,
   "metadata": {},
   "outputs": [],
   "source": [
    "import pandas as pd\n",
    "import numpy as np\n",
    "import matplotlib.pyplot as plt\n",
    "import seaborn as sns\n",
    "%matplotlib inline\n",
    "from numpy import array, hstack, math\n",
    "from numpy.random import uniform\n",
    "import matplotlib.pyplot as plt\n",
    "from sklearn.model_selection import train_test_split\n",
    "from sklearn.metrics import mean_squared_error\n",
    "from sklearn.ensemble import GradientBoostingRegressor\n",
    "\n",
    "from sklearn.multioutput import MultiOutputRegressor\n",
    "from sklearn.ensemble import RandomForestRegressor\n",
    "from sklearn.model_selection import RandomizedSearchCV\n",
    "import numpy as np\n",
    "np.random.seed(42)\n",
    "from sklearn.metrics import r2_score"
   ]
  },
  {
   "cell_type": "markdown",
   "metadata": {},
   "source": [
    "## 2. Import data "
   ]
  },
  {
   "cell_type": "code",
   "execution_count": 2,
   "metadata": {},
   "outputs": [],
   "source": [
    "data=pd.read_excel(r'C:\\Users\\Kirsty\\Desktop\\Steenkoppies Data\\1. GWL background decline\\A2N0612\\A2N0612.xlsx', parse_dates=['date'],  index_col='date')"
   ]
  },
  {
   "cell_type": "code",
   "execution_count": 3,
   "metadata": {},
   "outputs": [
    {
     "data": {
      "text/html": [
       "<div>\n",
       "<style scoped>\n",
       "    .dataframe tbody tr th:only-of-type {\n",
       "        vertical-align: middle;\n",
       "    }\n",
       "\n",
       "    .dataframe tbody tr th {\n",
       "        vertical-align: top;\n",
       "    }\n",
       "\n",
       "    .dataframe thead th {\n",
       "        text-align: right;\n",
       "    }\n",
       "</style>\n",
       "<table border=\"1\" class=\"dataframe\">\n",
       "  <thead>\n",
       "    <tr style=\"text-align: right;\">\n",
       "      <th></th>\n",
       "      <th>GWL</th>\n",
       "      <th>River Discharge</th>\n",
       "      <th>Rainfall</th>\n",
       "      <th>Temperature</th>\n",
       "      <th>Groundwater usage</th>\n",
       "    </tr>\n",
       "    <tr>\n",
       "      <th>date</th>\n",
       "      <th></th>\n",
       "      <th></th>\n",
       "      <th></th>\n",
       "      <th></th>\n",
       "      <th></th>\n",
       "    </tr>\n",
       "  </thead>\n",
       "  <tbody>\n",
       "    <tr>\n",
       "      <th>1989-05-01</th>\n",
       "      <td>-55.14</td>\n",
       "      <td>0.379</td>\n",
       "      <td>3.021605</td>\n",
       "      <td>12.20</td>\n",
       "      <td>13.45</td>\n",
       "    </tr>\n",
       "    <tr>\n",
       "      <th>1989-06-01</th>\n",
       "      <td>-55.11</td>\n",
       "      <td>0.386</td>\n",
       "      <td>35.249315</td>\n",
       "      <td>9.45</td>\n",
       "      <td>13.45</td>\n",
       "    </tr>\n",
       "    <tr>\n",
       "      <th>1989-07-01</th>\n",
       "      <td>-55.09</td>\n",
       "      <td>0.390</td>\n",
       "      <td>0.000000</td>\n",
       "      <td>9.00</td>\n",
       "      <td>13.45</td>\n",
       "    </tr>\n",
       "    <tr>\n",
       "      <th>1989-08-01</th>\n",
       "      <td>-55.08</td>\n",
       "      <td>0.384</td>\n",
       "      <td>0.000000</td>\n",
       "      <td>12.85</td>\n",
       "      <td>13.45</td>\n",
       "    </tr>\n",
       "    <tr>\n",
       "      <th>1989-09-01</th>\n",
       "      <td>-55.25</td>\n",
       "      <td>0.361</td>\n",
       "      <td>0.000000</td>\n",
       "      <td>13.85</td>\n",
       "      <td>13.45</td>\n",
       "    </tr>\n",
       "  </tbody>\n",
       "</table>\n",
       "</div>"
      ],
      "text/plain": [
       "              GWL  River Discharge   Rainfall  Temperature  Groundwater usage\n",
       "date                                                                         \n",
       "1989-05-01 -55.14            0.379   3.021605        12.20              13.45\n",
       "1989-06-01 -55.11            0.386  35.249315         9.45              13.45\n",
       "1989-07-01 -55.09            0.390   0.000000         9.00              13.45\n",
       "1989-08-01 -55.08            0.384   0.000000        12.85              13.45\n",
       "1989-09-01 -55.25            0.361   0.000000        13.85              13.45"
      ]
     },
     "execution_count": 3,
     "metadata": {},
     "output_type": "execute_result"
    }
   ],
   "source": [
    "data.head(5)"
   ]
  },
  {
   "cell_type": "code",
   "execution_count": 4,
   "metadata": {},
   "outputs": [
    {
     "data": {
      "text/plain": [
       "GWL                  float64\n",
       "River Discharge      float64\n",
       "Rainfall             float64\n",
       "Temperature          float64\n",
       "Groundwater usage    float64\n",
       "dtype: object"
      ]
     },
     "execution_count": 4,
     "metadata": {},
     "output_type": "execute_result"
    }
   ],
   "source": [
    "data.dtypes"
   ]
  },
  {
   "cell_type": "code",
   "execution_count": 5,
   "metadata": {},
   "outputs": [
    {
     "name": "stdout",
     "output_type": "stream",
     "text": [
      "The shape of our features is: (342, 5)\n"
     ]
    }
   ],
   "source": [
    "print('The shape of our features is:', data.shape)"
   ]
  },
  {
   "cell_type": "markdown",
   "metadata": {},
   "source": [
    "## 3. Visualise data "
   ]
  },
  {
   "cell_type": "code",
   "execution_count": 6,
   "metadata": {},
   "outputs": [
    {
     "data": {
      "image/png": "[encoded data removed]",
      "text/plain": [
       "<Figure size 576x360 with 5 Axes>"
      ]
     },
     "metadata": {
      "needs_background": "light"
     },
     "output_type": "display_data"
    }
   ],
   "source": [
    "# Plotting\n",
    "data.plot(kind='line', subplots=True,\n",
    "     legend=False)\n",
    "\n",
    "[ax.legend(loc=\"best\", prop={'size': 8}) for ax in plt.gcf().axes]\n",
    "plt.gcf().set_size_inches(8,5)"
   ]
  },
  {
   "cell_type": "markdown",
   "metadata": {},
   "source": [
    "##  Split data: Train, test, val split 50%, 10%,10% "
   ]
  },
  {
   "cell_type": "markdown",
   "metadata": {},
   "source": [
    "change values here "
   ]
  },
  {
   "cell_type": "code",
   "execution_count": 7,
   "metadata": {},
   "outputs": [],
   "source": [
    "#'GWL','Rainfall','Temperature','River Discharge','Groundwater usage'\n",
    "\n",
    "ytrain5 = data['GWL'].iloc[:171]\n",
    "Xtrain5 = data.loc[:, ['Rainfall','Temperature','River Discharge','Groundwater usage'\n",
    "]].iloc[:171, :]\n",
    "\n",
    "ytest5 = data['GWL'].iloc[171:206]\n",
    "Xtest5  = data.loc[:, ['Rainfall','Temperature','River Discharge','Groundwater usage'\n",
    "]].iloc[171:206, :]\n",
    "\n",
    "yval5  = data['GWL'].iloc[206:240]\n",
    "Xval5 = data.loc[:, ['Rainfall','Temperature','River Discharge','Groundwater usage'\n",
    "]].iloc[206:240, :]"
   ]
  },
  {
   "cell_type": "code",
   "execution_count": 8,
   "metadata": {},
   "outputs": [
    {
     "name": "stdout",
     "output_type": "stream",
     "text": [
      "(171,) (171, 4) (35,) (35, 4) (34,) (34, 4)\n"
     ]
    }
   ],
   "source": [
    "print(ytrain5.shape,Xtrain5.shape,  \n",
    "      ytest5.shape,Xtest5.shape, \n",
    "      yval5.shape,Xval5.shape)"
   ]
  },
  {
   "cell_type": "markdown",
   "metadata": {},
   "source": [
    "##  Call model"
   ]
  },
  {
   "cell_type": "code",
   "execution_count": 9,
   "metadata": {},
   "outputs": [],
   "source": [
    "\n",
    "#random.seed(1234)\n",
    "from sklearn.ensemble import RandomForestRegressor\n",
    "from numpy import *\n",
    "from sklearn.svm import SVR\n",
    "\n",
    "random.seed(42)\n",
    "rf5 = SVR()\n",
    "\n"
   ]
  },
  {
   "cell_type": "markdown",
   "metadata": {},
   "source": [
    "## 6. Train the model on training data"
   ]
  },
  {
   "cell_type": "code",
   "execution_count": 10,
   "metadata": {},
   "outputs": [
    {
     "data": {
      "text/plain": [
       "SVR(C=1.0, cache_size=200, coef0=0.0, degree=3, epsilon=0.1, gamma='scale',\n",
       "    kernel='rbf', max_iter=-1, shrinking=True, tol=0.001, verbose=False)"
      ]
     },
     "execution_count": 10,
     "metadata": {},
     "output_type": "execute_result"
    }
   ],
   "source": [
    "rf5.fit(Xtrain5, ytrain5)"
   ]
  },
  {
   "cell_type": "markdown",
   "metadata": {},
   "source": [
    "## 6.1 Plot tests results "
   ]
  },
  {
   "cell_type": "code",
   "execution_count": 11,
   "metadata": {},
   "outputs": [],
   "source": [
    "training5= rf5.predict(Xtrain5)\n",
    "training5 = pd.Series(training5, index=ytrain5.index)"
   ]
  },
  {
   "cell_type": "code",
   "execution_count": 12,
   "metadata": {},
   "outputs": [
    {
     "data": {
      "text/plain": [
       "<matplotlib.legend.Legend at 0x1aeef58ee08>"
      ]
     },
     "execution_count": 12,
     "metadata": {},
     "output_type": "execute_result"
    },
    {
     "data": {
      "image/png": "[encoded data removed]",
      "text/plain": [
       "<Figure size 720x216 with 1 Axes>"
      ]
     },
     "metadata": {
      "needs_background": "light"
     },
     "output_type": "display_data"
    }
   ],
   "source": [
    "#plot test data \n",
    "ytrain5.plot(label='observed training target', color='royalblue')\n",
    "training5.plot(label='simulated output', color='chocolate')\n",
    "#plt.suptitle(' GWL Timeseries for Well A2N0553')\n",
    "plt.xlabel('date')\n",
    "plt.ylabel('Groundwater levels (mbgl)')\n",
    "\n",
    "plt.gcf().set_size_inches(10,3)\n",
    "\n",
    "plt.legend(loc = 'best')\n",
    "\n",
    "#plt.savefig(r'C:\\Users\\Kirsty\\Desktop\\Steenkoppies Data\\1. GWL background decline\\A2N0617\\together_rainfall A2N0617 _train')"
   ]
  },
  {
   "cell_type": "markdown",
   "metadata": {},
   "source": [
    "## 6.2 Create data frame from training observed and simulated data"
   ]
  },
  {
   "cell_type": "code",
   "execution_count": 13,
   "metadata": {},
   "outputs": [],
   "source": [
    "actual_train5 =np.array(ytrain5)\n",
    "simulated_train5 =np.array(training5)\n",
    " \n",
    "dftrain5= pd.DataFrame({'actual_train5': actual_train5, 'simulated_train5': list(simulated_train5)}, columns=['actual_train5', 'simulated_train5'])"
   ]
  },
  {
   "cell_type": "code",
   "execution_count": null,
   "metadata": {},
   "outputs": [],
   "source": [
    "dftrain5"
   ]
  },
  {
   "cell_type": "markdown",
   "metadata": {},
   "source": [
    "## 6.3 Performace metrics training"
   ]
  },
  {
   "cell_type": "code",
   "execution_count": null,
   "metadata": {},
   "outputs": [],
   "source": [
    "# Performance metrics training \n",
    "from sklearn.metrics import mean_squared_error\n",
    "from sklearn import metrics\n",
    "from sklearn.metrics import r2_score\n",
    "import math\n",
    "import numpy as np\n",
    "actual_train5 = dftrain5['actual_train5']\n",
    "simulated_train5 = dftrain5['simulated_train5']\n",
    "\n",
    "#MAE=metrics.mean_absolute_error (actual_train, simulated_train)\n",
    "#print('Mean Absolute Error:', MAE)\n",
    "\n",
    "#MedianAE=metrics.mean_squared_error (actual_train, simulated_train)\n",
    "#print('Mean Squared Error:', MedianAE)\n",
    "\n",
    "RMSE=np.sqrt(metrics.mean_squared_error(actual_train5, simulated_train5))\n",
    "print ('Root Mean Squared Error:',RMSE)\n",
    "\n",
    "#RMSEr=np.sqrt(sum((actual_train5-simulated_train5)/actual_train5)**2)/300\n",
    "#print('Relative Root Mean Squared Error:',RMSEr)\n",
    "\n",
    "r2_score=metrics.r2_score(actual_train5, simulated_train5)\n",
    "print('r2_score:', r2_score)\n",
    "\n",
    "\n",
    "#Nash Sutcliffe efficiency coefficient\n",
    "NSE= 1 - sum((actual_train5-simulated_train5)**2)/sum((simulated_train5-np.mean(simulated_train5))**2)\n",
    "print('Nash Sutcliffe efficiency coefficient:', NSE)\n",
    "\n"
   ]
  },
  {
   "cell_type": "markdown",
   "metadata": {},
   "source": [
    "## 7. Hyperparameter tuning on validation data set "
   ]
  },
  {
   "cell_type": "code",
   "execution_count": null,
   "metadata": {},
   "outputs": [],
   "source": [
    "param_search = {'kernel' : ('linear', 'poly', 'rbf', 'sigmoid'),\n",
    "                 'C' : [1,5,10],'degree' : [3,8],\n",
    "                 'coef0' : [0.01,10,0.5],'gamma' : ('auto','scale')}\n",
    "\n",
    "\n",
    "\n"
   ]
  },
  {
   "cell_type": "markdown",
   "metadata": {},
   "source": [
    "from sklearn.model_selection import TimeSeriesSplit, GridSearchCV\n",
    "tscv = TimeSeriesSplit(n_splits=3)\n",
    "gsearch = GridSearchCV(estimator=rf5, cv=tscv,\n",
    "                        param_grid=param_search)\n",
    "gsearch.fit(Xval5, yval5.ravel())"
   ]
  },
  {
   "cell_type": "markdown",
   "metadata": {},
   "source": [
    "gsearch.best_params_"
   ]
  },
  {
   "cell_type": "code",
   "execution_count": null,
   "metadata": {},
   "outputs": [],
   "source": [
    "clf5 = SVR()\n",
    "from sklearn.model_selection import TimeSeriesSplit, GridSearchCV\n",
    "tscv = TimeSeriesSplit(n_splits=3)\n",
    "\n",
    "model5 = GridSearchCV(estimator = clf5, param_grid = param_search, \n",
    "                               cv = tscv, verbose= 5, n_jobs = -1)\n",
    "model5.fit(Xval5,yval5)\n",
    "\n",
    "#predictionforest = model.best_estimator_.predict(X_Test)"
   ]
  },
  {
   "cell_type": "code",
   "execution_count": null,
   "metadata": {},
   "outputs": [],
   "source": [
    "model5.best_params_\n"
   ]
  },
  {
   "cell_type": "code",
   "execution_count": null,
   "metadata": {},
   "outputs": [],
   "source": [
    "trainforest5= model5.best_estimator_.fit(Xtrain5, ytrain5)\n"
   ]
  },
  {
   "cell_type": "code",
   "execution_count": null,
   "metadata": {},
   "outputs": [],
   "source": []
  },
  {
   "cell_type": "markdown",
   "metadata": {},
   "source": [
    "## Predict with new parameter"
   ]
  },
  {
   "cell_type": "code",
   "execution_count": null,
   "metadata": {},
   "outputs": [],
   "source": [
    "predictionforest5= model5.best_estimator_.predict(Xtest5)"
   ]
  },
  {
   "cell_type": "code",
   "execution_count": null,
   "metadata": {},
   "outputs": [],
   "source": [
    "prediction5 = pd.Series(predictionforest5, index=ytest5.index)"
   ]
  },
  {
   "cell_type": "code",
   "execution_count": null,
   "metadata": {},
   "outputs": [],
   "source": [
    "ytest5.plot(label='observed prediction target')\n",
    "prediction5.plot(label='simulated prediction', color='chocolate',linestyle='dashed')\n",
    "#plt.suptitle(' GWL Timeseries Prediction for Well A2N0553')\n",
    "plt.xlabel('date')\n",
    "plt.ylabel('Groundwater levels (mbgl)')\n",
    "\n",
    "plt.gcf().subplots_adjust(left=0.15,bottom=0.15)\n",
    "plt.legend(loc = 'best')\n",
    "\n",
    "plt.gcf().set_size_inches(10,3)\n",
    "\n",
    "#plt.savefig(r'C:\\Users\\Kirsty\\Desktop\\Sprediction')"
   ]
  },
  {
   "cell_type": "markdown",
   "metadata": {},
   "source": [
    "## Create a data frame on test ovserved and simulated "
   ]
  },
  {
   "cell_type": "code",
   "execution_count": null,
   "metadata": {},
   "outputs": [],
   "source": [
    "actual_test5 =np.array(ytest5)\n",
    "simulated_test5 =np.array(prediction5)\n",
    "\n",
    "dataset_val = pd.DataFrame({'actual_test5': actual_test5, 'simulated_test5': list(simulated_test5)}, columns=['actual_test5', 'simulated_test5'])"
   ]
  },
  {
   "cell_type": "code",
   "execution_count": null,
   "metadata": {},
   "outputs": [],
   "source": [
    "# Performance metrics training \n",
    "from sklearn.metrics import mean_squared_error\n",
    "from sklearn import metrics\n",
    "from sklearn.metrics import r2_score\n",
    "import math\n",
    "import numpy as np\n",
    "actual_val = dataset_val['actual_test5']\n",
    "simulated_val = dataset_val['simulated_test5']\n",
    "\n",
    "#MAE=metrics.mean_absolute_error (actual_val, simulated_val)\n",
    "#print('Mean Absolute Error:', MAE)\n",
    "\n",
    "#MedianAE=metrics.mean_squared_error (actual_val, simulated_val)\n",
    "#print('Mean Squared Error:', MedianAE)\n",
    "\n",
    "RMSE=np.sqrt(metrics.mean_squared_error(actual_val, simulated_val))\n",
    "print ('Root Mean Squared Error:',RMSE)\n",
    "\n",
    "#RMSEr=np.sqrt(sum((actual-simulated)/actual)**2)/300\n",
    "#print('Relative Root Mean Squared Error:',RMSEr)\n",
    "\n",
    "r2_score=metrics.r2_score(actual_val, simulated_val)\n",
    "print('r2_score:', r2_score)\n",
    "\n",
    "\n",
    "#Nash Sutcliffe efficiency coefficient\n",
    "NSE= 1 - sum((actual_val-simulated_val)**2)/sum((simulated_val-np.mean(simulated_val))**2)\n",
    "print('Nash Sutcliffe efficiency coefficient:', NSE)\n"
   ]
  },
  {
   "cell_type": "markdown",
   "metadata": {},
   "source": [
    "## Plotting test and train together "
   ]
  },
  {
   "cell_type": "code",
   "execution_count": null,
   "metadata": {},
   "outputs": [],
   "source": [
    "\n",
    "ytest5.plot(label='observed prediction target')\n",
    "prediction5.plot(label='simulated prediction', color='chocolate',linestyle='dashed')\n",
    "\n",
    "ytrain5.plot(label='observed training target', color='royalblue')\n",
    "training5.plot(label='simulated output', color='chocolate')\n",
    "\n",
    "#plt.suptitle(' GWL Timeseries for Well A2N0553')\n",
    "plt.xlabel('date')\n",
    "plt.ylabel('Groundwater levels (mbgl)')\n",
    "\n",
    "\n",
    "plt.gcf().set_size_inches(10,3)\n",
    "\n",
    "plt.legend(loc = \"best\")\n",
    "\n",
    "#plt.savefig(r'C:\\Users\\Kirsty\\Desktop\\Steenkoppies Data\\1. GWL background decline\\A2N0617\\together_rainfall A2N0617 _train'"
   ]
  },
  {
   "cell_type": "markdown",
   "metadata": {},
   "source": [
    "## train test validation split 60%"
   ]
  },
  {
   "cell_type": "markdown",
   "metadata": {},
   "source": [
    "change values here "
   ]
  },
  {
   "cell_type": "code",
   "execution_count": null,
   "metadata": {},
   "outputs": [],
   "source": [
    "#'GWL','Rainfall','Temperature','River Discharge','Groundwater usage'\n",
    "\n",
    "ytrain6 = data['GWL'].iloc[:206]\n",
    "Xtrain6 = data.loc[:, ['Rainfall','Temperature','River Discharge','Groundwater usage'\n",
    "]].iloc[:206, :]\n",
    "\n",
    "ytest6 = data['GWL'].iloc[206:240]\n",
    "Xtest6  = data.loc[:, ['Rainfall','Temperature','River Discharge','Groundwater usage'\n",
    "]].iloc[206:240, :]\n",
    "\n",
    "yval6  = data['GWL'].iloc[240:274]\n",
    "Xval6 = data.loc[:, ['Rainfall','Temperature','River Discharge','Groundwater usage'\n",
    "]].iloc[240:274, :]"
   ]
  },
  {
   "cell_type": "code",
   "execution_count": null,
   "metadata": {},
   "outputs": [],
   "source": [
    "print(ytrain6.shape,Xtrain6.shape,  \n",
    "      ytest6.shape,Xtest6.shape, \n",
    "      yval6.shape,Xval6.shape)"
   ]
  },
  {
   "cell_type": "markdown",
   "metadata": {},
   "source": [
    "## 5. Call model"
   ]
  },
  {
   "cell_type": "code",
   "execution_count": null,
   "metadata": {},
   "outputs": [],
   "source": [
    "\n",
    "#random.seed(1234)\n",
    "from sklearn.ensemble import RandomForestRegressor\n",
    "from numpy import *\n",
    "\n",
    "random.seed(42)\n",
    "rf6 = SVR()\n",
    "                           \n",
    "\n"
   ]
  },
  {
   "cell_type": "markdown",
   "metadata": {},
   "source": [
    "## 6. Train the model on training data"
   ]
  },
  {
   "cell_type": "code",
   "execution_count": null,
   "metadata": {},
   "outputs": [],
   "source": [
    "rf6.fit(Xtrain6, ytrain6)"
   ]
  },
  {
   "cell_type": "markdown",
   "metadata": {},
   "source": [
    "## 6.1 Plot tests results "
   ]
  },
  {
   "cell_type": "code",
   "execution_count": null,
   "metadata": {},
   "outputs": [],
   "source": [
    "training6= rf6.predict(Xtrain6)\n",
    "training6 = pd.Series(training6, index=ytrain6.index)"
   ]
  },
  {
   "cell_type": "code",
   "execution_count": null,
   "metadata": {},
   "outputs": [],
   "source": [
    "#plot test data \n",
    "ytrain6.plot(label='observed training target', color='royalblue')\n",
    "training6.plot(label='simulated output', color='chocolate')\n",
    "#plt.suptitle(' GWL Timeseries for Well A2N0553')\n",
    "plt.xlabel('date')\n",
    "plt.ylabel('Groundwater levels (mbgl)')\n",
    "\n",
    "plt.rcParams.update(plt.rcParamsDefault)\n",
    "\n",
    "plt.gcf().set_size_inches(10,3)\n",
    "\n",
    "plt.legend(loc = 'best')\n",
    "\n",
    "#plt.savefig(r'C:\\Users\\Kirsty\\Desktop\\Steenkoppies Data\\1. GWL background decline\\A2N0617\\together_rainfall A2N0617 _train')"
   ]
  },
  {
   "cell_type": "markdown",
   "metadata": {},
   "source": [
    "## 6.2 Create data frame from training observed and simulated data"
   ]
  },
  {
   "cell_type": "code",
   "execution_count": null,
   "metadata": {},
   "outputs": [],
   "source": [
    "actual_train6=np.array(ytrain6)\n",
    "simulated_train6 =np.array(training6)\n",
    " \n",
    "dftrain6= pd.DataFrame({'actual_train6': actual_train6, 'simulated_train6': list(simulated_train6)}, columns=['actual_train6', 'simulated_train6'])"
   ]
  },
  {
   "cell_type": "code",
   "execution_count": null,
   "metadata": {},
   "outputs": [],
   "source": [
    "dftrain6"
   ]
  },
  {
   "cell_type": "markdown",
   "metadata": {},
   "source": [
    "## 6.3 Performace metrics training"
   ]
  },
  {
   "cell_type": "code",
   "execution_count": null,
   "metadata": {},
   "outputs": [],
   "source": [
    "# Performance metrics training \n",
    "from sklearn.metrics import mean_squared_error\n",
    "from sklearn import metrics\n",
    "from sklearn.metrics import r2_score\n",
    "import math\n",
    "import numpy as np\n",
    "actual_train6 = dftrain6['actual_train6']\n",
    "simulated_train6 = dftrain6['simulated_train6']\n",
    "\n",
    "#MAE=metrics.mean_absolute_error (actual_train, simulated_train)\n",
    "#print('Mean Absolute Error:', MAE)\n",
    "\n",
    "#MedianAE=metrics.mean_squared_error (actual_train, simulated_train)\n",
    "#print('Mean Squared Error:', MedianAE)\n",
    "\n",
    "RMSE=np.sqrt(metrics.mean_squared_error(actual_train6, simulated_train6))\n",
    "print ('Root Mean Squared Error:',RMSE)\n",
    "\n",
    "#RMSEr=np.sqrt(sum((actual_train5-simulated_train5)/actual_train5)**2)/300\n",
    "#print('Relative Root Mean Squared Error:',RMSEr)\n",
    "\n",
    "r2_score=metrics.r2_score(actual_train6, simulated_train6)\n",
    "print('r2_score:', r2_score)\n",
    "\n",
    "\n",
    "#Nash Sutcliffe efficiency coefficient\n",
    "NSE= 1 - sum((actual_train6-simulated_train6)**2)/sum((simulated_train6-np.mean(simulated_train6))**2)\n",
    "print('Nash Sutcliffe efficiency coefficient:', NSE)\n",
    "\n"
   ]
  },
  {
   "cell_type": "markdown",
   "metadata": {},
   "source": [
    "## 7. Hyperparameter tuning on validation data set "
   ]
  },
  {
   "cell_type": "code",
   "execution_count": null,
   "metadata": {},
   "outputs": [],
   "source": [
    "param_search = {'kernel' : ('linear', 'poly', 'rbf', 'sigmoid'),\n",
    "                'C' : [1,5,10],'degree' : [3,8],\n",
    "                'coef0' : [0.01,10,0.5],'gamma' : ('auto','scale')}\n",
    "\n"
   ]
  },
  {
   "cell_type": "markdown",
   "metadata": {},
   "source": [
    "from sklearn.model_selection import TimeSeriesSplit, GridSearchCV\n",
    "tscv = TimeSeriesSplit(n_splits=3)\n",
    "gsearch = GridSearchCV(estimator=rf5, cv=tscv,\n",
    "                        param_grid=param_search)\n",
    "gsearch.fit(Xval5, yval5.ravel())"
   ]
  },
  {
   "cell_type": "markdown",
   "metadata": {},
   "source": [
    "gsearch.best_params_"
   ]
  },
  {
   "cell_type": "code",
   "execution_count": null,
   "metadata": {},
   "outputs": [],
   "source": [
    "clf6 = SVR()\n",
    "from sklearn.model_selection import TimeSeriesSplit, GridSearchCV\n",
    "tscv = TimeSeriesSplit(n_splits=3)\n",
    "\n",
    "model6 = GridSearchCV(estimator = clf6, param_grid = param_search, \n",
    "                               cv = tscv, verbose= 5, n_jobs = -1)\n",
    "model6.fit(Xval6,yval6)\n",
    "\n",
    "#predictionforest = model.best_estimator_.predict(X_Test)"
   ]
  },
  {
   "cell_type": "code",
   "execution_count": null,
   "metadata": {},
   "outputs": [],
   "source": [
    "model6.best_params_\n"
   ]
  },
  {
   "cell_type": "code",
   "execution_count": null,
   "metadata": {},
   "outputs": [],
   "source": [
    "trainforest6= model6.best_estimator_.fit(Xtrain6, ytrain6)\n"
   ]
  },
  {
   "cell_type": "code",
   "execution_count": null,
   "metadata": {},
   "outputs": [],
   "source": []
  },
  {
   "cell_type": "markdown",
   "metadata": {},
   "source": [
    "## Predict with new parameter"
   ]
  },
  {
   "cell_type": "code",
   "execution_count": null,
   "metadata": {},
   "outputs": [],
   "source": [
    "predictionforest6= model6.best_estimator_.predict(Xtest6)"
   ]
  },
  {
   "cell_type": "code",
   "execution_count": null,
   "metadata": {},
   "outputs": [],
   "source": [
    "prediction6 = pd.Series(predictionforest6, index=ytest6.index)"
   ]
  },
  {
   "cell_type": "code",
   "execution_count": null,
   "metadata": {},
   "outputs": [],
   "source": [
    "ytest6.plot(label='observed prediction target')\n",
    "prediction6.plot(label='simulated prediction', color='chocolate',linestyle='dashed')\n",
    "#plt.suptitle(' GWL Timeseries Prediction for Well A2N0553')\n",
    "plt.xlabel('date')\n",
    "plt.ylabel('Groundwater levels (mbgl)')\n",
    "\n",
    "plt.gcf().subplots_adjust(left=0.15,bottom=0.15)\n",
    "plt.legend(loc = 'best')\n",
    "\n",
    "plt.gcf().set_size_inches(10,3)\n",
    "\n",
    "#plt.savefig(r'C:\\Users\\Kirsty\\Desktop\\Sprediction')"
   ]
  },
  {
   "cell_type": "markdown",
   "metadata": {},
   "source": [
    "## Create a data frame on test ovserved and simulated "
   ]
  },
  {
   "cell_type": "code",
   "execution_count": null,
   "metadata": {},
   "outputs": [],
   "source": [
    "actual_test6 =np.array(ytest6)\n",
    "simulated_test6 =np.array(prediction6)\n",
    "\n",
    "dataset_val = pd.DataFrame({'actual_test6': actual_test6, 'simulated_test6': list(simulated_test6)}, columns=['actual_test6', 'simulated_test6'])"
   ]
  },
  {
   "cell_type": "code",
   "execution_count": null,
   "metadata": {},
   "outputs": [],
   "source": [
    "# Performance metrics training \n",
    "from sklearn.metrics import mean_squared_error\n",
    "from sklearn import metrics\n",
    "from sklearn.metrics import r2_score\n",
    "import math\n",
    "import numpy as np\n",
    "actual_val = dataset_val['actual_test6']\n",
    "simulated_val = dataset_val['simulated_test6']\n",
    "\n",
    "#MAE=metrics.mean_absolute_error (actual_val, simulated_val)\n",
    "#print('Mean Absolute Error:', MAE)\n",
    "\n",
    "#MedianAE=metrics.mean_squared_error (actual_val, simulated_val)\n",
    "#print('Mean Squared Error:', MedianAE)\n",
    "\n",
    "RMSE=np.sqrt(metrics.mean_squared_error(actual_val, simulated_val))\n",
    "print ('Root Mean Squared Error:',RMSE)\n",
    "\n",
    "#RMSEr=np.sqrt(sum((actual-simulated)/actual)**2)/300\n",
    "#print('Relative Root Mean Squared Error:',RMSEr)\n",
    "\n",
    "r2_score=metrics.r2_score(actual_val, simulated_val)\n",
    "print('r2_score:', r2_score)\n",
    "\n",
    "\n",
    "#Nash Sutcliffe efficiency coefficient\n",
    "NSE= 1 - sum((actual_val-simulated_val)**2)/sum((simulated_val-np.mean(simulated_val))**2)\n",
    "print('Nash Sutcliffe efficiency coefficient:', NSE)\n"
   ]
  },
  {
   "cell_type": "markdown",
   "metadata": {},
   "source": [
    "## Plotting test and train together "
   ]
  },
  {
   "cell_type": "code",
   "execution_count": null,
   "metadata": {},
   "outputs": [],
   "source": [
    "\n",
    "ytest6.plot(label='observed prediction target')\n",
    "prediction6.plot(label='simulated prediction', color='chocolate',linestyle='dashed')\n",
    "\n",
    "ytrain6.plot(label='observed training target', color='royalblue')\n",
    "training6.plot(label='simulated output', color='chocolate')\n",
    "\n",
    "#plt.suptitle(' GWL Timeseries for Well A2N0553')\n",
    "plt.xlabel('date')\n",
    "plt.ylabel('Groundwater levels (mbgl)')\n",
    "\n",
    "plt.gcf().set_size_inches(10,3)\n",
    "\n",
    "plt.legend(loc = \"best\")\n",
    "\n",
    "#plt.savefig(r'C:\\Users\\Kirsty\\Desktop\\Steenkoppies Data\\1. GWL background decline\\A2N0617\\together_rainfall A2N0617 _train'"
   ]
  },
  {
   "cell_type": "markdown",
   "metadata": {},
   "source": [
    "## Feature importance "
   ]
  },
  {
   "cell_type": "code",
   "execution_count": null,
   "metadata": {},
   "outputs": [],
   "source": [
    "# how many estimators?\n",
    "len(rf6.estimators_)\n"
   ]
  },
  {
   "cell_type": "code",
   "execution_count": null,
   "metadata": {},
   "outputs": [],
   "source": [
    "#Feature importance\n",
    "rf6.estimators_[0].feature_importances_"
   ]
  },
  {
   "cell_type": "code",
   "execution_count": null,
   "metadata": {},
   "outputs": [],
   "source": [
    "feature_list=['Rainfall','Temperature','Discarge','Licenced Abstraction']\n",
    "# Get numerical feature importances\n",
    "importances = list(rf6.estimators_[0].feature_importances_)\n",
    "# List of tuples with variable and importance\n",
    "feature_importances = [(feature, round(importance, 2)) for feature, importance in zip(feature_list, importances)]\n",
    "\n",
    "# Sort the feature importances by most important first\n",
    "#feature_importances = sorted(feature_importances, key = lambda x: x[1], reverse = True)\n",
    "\n",
    "# Print out the feature and importances \n",
    "[print('Variable: {:20} Importance: {}'.format(*pair)) for pair in feature_importances];"
   ]
  },
  {
   "cell_type": "code",
   "execution_count": null,
   "metadata": {
    "scrolled": true
   },
   "outputs": [],
   "source": [
    "# Import matplotlib for plotting and use magic command for Jupyter Notebooks\n",
    "import matplotlib.pyplot as plt\n",
    "%matplotlib inline\n",
    "# Set the style\n",
    "plt.style.use('fivethirtyeight')\n",
    "# list of x locations for plotting\n",
    "x_values = list(range(len(importances)))\n",
    "# Make a bar chart\n",
    "plt.bar(x_values, importances, orientation = 'vertical')\n",
    "# Tick labels for x axis\n",
    "plt.xticks(x_values, feature_list, rotation='vertical')\n",
    "# Axis labels and title\n",
    "plt.ylabel('Importance'); plt.xlabel('Variable'); plt.title('Variable Importances');"
   ]
  },
  {
   "cell_type": "code",
   "execution_count": null,
   "metadata": {},
   "outputs": [],
   "source": []
  },
  {
   "cell_type": "markdown",
   "metadata": {},
   "source": [
    "## train test validation split 70%"
   ]
  },
  {
   "cell_type": "markdown",
   "metadata": {},
   "source": [
    "change values here "
   ]
  },
  {
   "cell_type": "code",
   "execution_count": null,
   "metadata": {},
   "outputs": [],
   "source": [
    "#'GWL','Rainfall','Temperature','River Discharge','Groundwater usage'\n",
    "\n",
    "ytrain7 = data['GWL'].iloc[:240]\n",
    "Xtrain7 = data.loc[:, ['Rainfall','Temperature','River Discharge','Groundwater usage'\n",
    "]].iloc[:240, :]\n",
    "\n",
    "ytest7 = data['GWL'].iloc[240:274]\n",
    "Xtest7  = data.loc[:, ['Rainfall','Temperature','River Discharge','Groundwater usage'\n",
    "]].iloc[240:274, :]\n",
    "\n",
    "yval7  = data['GWL'].iloc[274:308]\n",
    "Xval7 = data.loc[:, ['Rainfall','Temperature','River Discharge','Groundwater usage'\n",
    "]].iloc[274:308, :]"
   ]
  },
  {
   "cell_type": "code",
   "execution_count": null,
   "metadata": {},
   "outputs": [],
   "source": [
    "print(ytrain7.shape,Xtrain7.shape,  \n",
    "      ytest7.shape,Xtest7.shape, \n",
    "      yval7.shape,Xval7.shape)"
   ]
  },
  {
   "cell_type": "markdown",
   "metadata": {},
   "source": [
    "## 5. Call model"
   ]
  },
  {
   "cell_type": "code",
   "execution_count": null,
   "metadata": {},
   "outputs": [],
   "source": [
    "\n",
    "#random.seed(1234)\n",
    "from sklearn.ensemble import RandomForestRegressor\n",
    "from numpy import *\n",
    "\n",
    "random.seed(42)\n",
    "rf7 = RandomForestRegressor(random_state = 42)\n",
    "                            #bootstrap='true',\n",
    " #max_depth=None, max_features='sqrt', min_samples_leaf=5,min_samples_split=2,\n",
    "# n_estimators=20)\n",
    "\n"
   ]
  },
  {
   "cell_type": "markdown",
   "metadata": {},
   "source": [
    "## 6. Train the model on training data"
   ]
  },
  {
   "cell_type": "code",
   "execution_count": null,
   "metadata": {},
   "outputs": [],
   "source": [
    "rf7.fit(Xtrain7, ytrain7)"
   ]
  },
  {
   "cell_type": "markdown",
   "metadata": {},
   "source": [
    "## 6.1 Plot tests results "
   ]
  },
  {
   "cell_type": "code",
   "execution_count": null,
   "metadata": {},
   "outputs": [],
   "source": [
    "training7= rf7.predict(Xtrain7)\n",
    "training7 = pd.Series(training7, index=ytrain7.index)"
   ]
  },
  {
   "cell_type": "code",
   "execution_count": null,
   "metadata": {},
   "outputs": [],
   "source": [
    "#plot test data \n",
    "ytrain7.plot(label='observed training target', color='royalblue')\n",
    "training7.plot(label='simulated output', color='chocolate')\n",
    "#plt.suptitle(' GWL Timeseries for Well A2N0553')\n",
    "plt.xlabel('date')\n",
    "plt.ylabel('Groundwater levels (mbgl)')\n",
    "\n",
    "plt.gcf().set_size_inches(10,3)\n",
    "\n",
    "plt.legend(loc = 'best')\n",
    "\n",
    "#plt.savefig(r'C:\\Users\\Kirsty\\Desktop\\Steenkoppies Data\\1. GWL background decline\\A2N0617\\together_rainfall A2N0617 _train')"
   ]
  },
  {
   "cell_type": "markdown",
   "metadata": {},
   "source": [
    "## 6.2 Create data frame from training observed and simulated data"
   ]
  },
  {
   "cell_type": "code",
   "execution_count": null,
   "metadata": {},
   "outputs": [],
   "source": [
    "actual_train7=np.array(ytrain7)\n",
    "simulated_train7 =np.array(training7)\n",
    " \n",
    "dftrain7= pd.DataFrame({'actual_train7': actual_train7, 'simulated_train7': list(simulated_train7)}, columns=['actual_train7', 'simulated_train7'])"
   ]
  },
  {
   "cell_type": "code",
   "execution_count": null,
   "metadata": {},
   "outputs": [],
   "source": [
    "dftrain7"
   ]
  },
  {
   "cell_type": "markdown",
   "metadata": {},
   "source": [
    "## 6.3 Performace metrics training"
   ]
  },
  {
   "cell_type": "code",
   "execution_count": null,
   "metadata": {},
   "outputs": [],
   "source": [
    "# Performance metrics training \n",
    "from sklearn.metrics import mean_squared_error\n",
    "from sklearn import metrics\n",
    "from sklearn.metrics import r2_score\n",
    "import math\n",
    "import numpy as np\n",
    "actual_train7 = dftrain7['actual_train7']\n",
    "simulated_train7 = dftrain7['simulated_train7']\n",
    "\n",
    "#MAE=metrics.mean_absolute_error (actual_train, simulated_train)\n",
    "#print('Mean Absolute Error:', MAE)\n",
    "\n",
    "#MedianAE=metrics.mean_squared_error (actual_train, simulated_train)\n",
    "#print('Mean Squared Error:', MedianAE)\n",
    "\n",
    "RMSE=np.sqrt(metrics.mean_squared_error(actual_train7, simulated_train7))\n",
    "print ('Root Mean Squared Error:',RMSE)\n",
    "\n",
    "#RMSEr=np.sqrt(sum((actual_train5-simulated_train5)/actual_train5)**2)/300\n",
    "#print('Relative Root Mean Squared Error:',RMSEr)\n",
    "\n",
    "r2_score=metrics.r2_score(actual_train7, simulated_train7)\n",
    "print('r2_score:', r2_score)\n",
    "\n",
    "\n",
    "#Nash Sutcliffe efficiency coefficient\n",
    "NSE= 1 - sum((actual_train7-simulated_train7)**2)/sum((simulated_train7-np.mean(simulated_train7))**2)\n",
    "print('Nash Sutcliffe efficiency coefficient:', NSE)\n",
    "\n"
   ]
  },
  {
   "cell_type": "markdown",
   "metadata": {},
   "source": [
    "## 7. Hyperparameter tuning on validation data set "
   ]
  },
  {
   "cell_type": "code",
   "execution_count": null,
   "metadata": {},
   "outputs": [],
   "source": [
    "param_search = {'kernel' : ('linear', 'poly', 'rbf', 'sigmoid'),\n",
    "                'C' : [1,5,10],'degree' : [3,8],\n",
    "                'coef0' : [0.01,10,0.5],'gamma' : ('auto','scale')}\n",
    "\n"
   ]
  },
  {
   "cell_type": "markdown",
   "metadata": {},
   "source": [
    "from sklearn.model_selection import TimeSeriesSplit, GridSearchCV\n",
    "tscv = TimeSeriesSplit(n_splits=3)\n",
    "gsearch = GridSearchCV(estimator=rf5, cv=tscv,\n",
    "                        param_grid=param_search)\n",
    "gsearch.fit(Xval5, yval5.ravel())"
   ]
  },
  {
   "cell_type": "markdown",
   "metadata": {},
   "source": [
    "gsearch.best_params_"
   ]
  },
  {
   "cell_type": "code",
   "execution_count": null,
   "metadata": {},
   "outputs": [],
   "source": [
    "clf7 = SVR()\n",
    "from sklearn.model_selection import TimeSeriesSplit, GridSearchCV\n",
    "tscv = TimeSeriesSplit(n_splits=3)\n",
    "\n",
    "model7 = GridSearchCV(estimator = clf7, param_grid = param_search, \n",
    "                               cv = tscv, verbose= 5, n_jobs = -1)\n",
    "model7.fit(Xval7,yval7)\n",
    "\n",
    "#predictionforest = model.best_estimator_.predict(X_Test)"
   ]
  },
  {
   "cell_type": "code",
   "execution_count": null,
   "metadata": {},
   "outputs": [],
   "source": [
    "model6.best_params_\n"
   ]
  },
  {
   "cell_type": "code",
   "execution_count": null,
   "metadata": {},
   "outputs": [],
   "source": [
    "trainforest7= model7.best_estimator_.fit(Xtrain7, ytrain7)\n"
   ]
  },
  {
   "cell_type": "code",
   "execution_count": null,
   "metadata": {},
   "outputs": [],
   "source": []
  },
  {
   "cell_type": "markdown",
   "metadata": {},
   "source": [
    "## Predict with new parameter"
   ]
  },
  {
   "cell_type": "code",
   "execution_count": null,
   "metadata": {},
   "outputs": [],
   "source": [
    "predictionforest7= model7.best_estimator_.predict(Xtest7)"
   ]
  },
  {
   "cell_type": "code",
   "execution_count": null,
   "metadata": {},
   "outputs": [],
   "source": [
    "prediction7 = pd.Series(predictionforest7, index=ytest7.index)"
   ]
  },
  {
   "cell_type": "code",
   "execution_count": null,
   "metadata": {},
   "outputs": [],
   "source": [
    "ytest7.plot(label='observed prediction target')\n",
    "prediction7.plot(label='simulated prediction', color='chocolate',linestyle='dashed')\n",
    "#plt.suptitle(' GWL Timeseries Prediction for Well A2N0553')\n",
    "plt.xlabel('date')\n",
    "plt.ylabel('Groundwater levels (mbgl)')\n",
    "\n",
    "plt.gcf().subplots_adjust(left=0.15,bottom=0.15)\n",
    "plt.legend(loc = 'best')\n",
    "\n",
    "plt.gcf().set_size_inches(10,3)\n",
    "\n",
    "#plt.savefig(r'C:\\Users\\Kirsty\\Desktop\\Sprediction')"
   ]
  },
  {
   "cell_type": "markdown",
   "metadata": {},
   "source": [
    "## Create a data frame on test ovserved and simulated "
   ]
  },
  {
   "cell_type": "code",
   "execution_count": null,
   "metadata": {},
   "outputs": [],
   "source": [
    "actual_test7=np.array(ytest7)\n",
    "simulated_test7=np.array(prediction7)\n",
    "\n",
    "dataset_val = pd.DataFrame({'actual_test7': actual_test7, 'simulated_test7': list(simulated_test7)}, columns=['actual_test7', 'simulated_test7'])"
   ]
  },
  {
   "cell_type": "code",
   "execution_count": null,
   "metadata": {},
   "outputs": [],
   "source": [
    "# Performance metrics training \n",
    "from sklearn.metrics import mean_squared_error\n",
    "from sklearn import metrics\n",
    "from sklearn.metrics import r2_score\n",
    "import math\n",
    "import numpy as np\n",
    "actual_val = dataset_val['actual_test7']\n",
    "simulated_val = dataset_val['simulated_test7']\n",
    "\n",
    "#MAE=metrics.mean_absolute_error (actual_val, simulated_val)\n",
    "#print('Mean Absolute Error:', MAE)\n",
    "\n",
    "#MedianAE=metrics.mean_squared_error (actual_val, simulated_val)\n",
    "#print('Mean Squared Error:', MedianAE)\n",
    "\n",
    "RMSE=np.sqrt(metrics.mean_squared_error(actual_val, simulated_val))\n",
    "print ('Root Mean Squared Error:',RMSE)\n",
    "\n",
    "#RMSEr=np.sqrt(sum((actual-simulated)/actual)**2)/300\n",
    "#print('Relative Root Mean Squared Error:',RMSEr)\n",
    "\n",
    "r2_score=metrics.r2_score(actual_val, simulated_val)\n",
    "print('r2_score:', r2_score)\n",
    "\n",
    "\n",
    "#Nash Sutcliffe efficiency coefficient\n",
    "NSE= 1 - sum((actual_val-simulated_val)**2)/sum((simulated_val-np.mean(simulated_val))**2)\n",
    "print('Nash Sutcliffe efficiency coefficient:', NSE)\n"
   ]
  },
  {
   "cell_type": "markdown",
   "metadata": {},
   "source": [
    "## Plotting test and train together "
   ]
  },
  {
   "cell_type": "code",
   "execution_count": null,
   "metadata": {
    "scrolled": true
   },
   "outputs": [],
   "source": [
    "\n",
    "ytest7.plot(label='observed prediction target')\n",
    "prediction7.plot(label='simulated prediction', color='chocolate',linestyle='dashed')\n",
    "\n",
    "ytrain7.plot(label='observed training target', color='royalblue')\n",
    "training7.plot(label='simulated output', color='chocolate')\n",
    "\n",
    "#plt.suptitle(' GWL Timeseries for Well A2N0553')\n",
    "plt.xlabel('date')\n",
    "plt.ylabel('Groundwater levels (mbgl)')\n",
    "\n",
    "plt.gcf().set_size_inches(10,3)\n",
    "\n",
    "plt.legend(loc = \"best\")\n",
    "\n",
    "#plt.savefig(r'C:\\Users\\Kirsty\\Desktop\\Steenkoppies Data\\1. GWL background decline\\A2N0617\\together_rainfall A2N0617 _train'"
   ]
  },
  {
   "cell_type": "markdown",
   "metadata": {},
   "source": [
    "## 4. Split data: Train, test, val split 80%, 10%,10% "
   ]
  },
  {
   "cell_type": "markdown",
   "metadata": {},
   "source": [
    "change values here "
   ]
  },
  {
   "cell_type": "code",
   "execution_count": null,
   "metadata": {},
   "outputs": [],
   "source": [
    "#'GWL','Rainfall','Temperature','River Discharge','Groundwater usage'\n",
    "\n",
    "ytrain8= data['GWL'].iloc[:275]\n",
    "Xtrain8 = data.loc[:, ['Rainfall','Temperature','River Discharge','Groundwater usage'\n",
    "]].iloc[:275, :]\n",
    "\n",
    "ytest8 = data['GWL'].iloc[275:309]\n",
    "Xtest8 = data.loc[:, ['Rainfall','Temperature','River Discharge','Groundwater usage'\n",
    "]].iloc[275:309, :]\n",
    "\n",
    "yval8= data['GWL'].iloc[309:343]\n",
    "Xval8 = data.loc[:, ['Rainfall','Temperature','River Discharge','Groundwater usage'\n",
    "]].iloc[309:343, :]"
   ]
  },
  {
   "cell_type": "code",
   "execution_count": null,
   "metadata": {},
   "outputs": [],
   "source": [
    "print(ytrain8.shape,Xtrain8.shape,  \n",
    "      ytest8.shape,Xtest8.shape, \n",
    "      yval8.shape,Xval8.shape)"
   ]
  },
  {
   "cell_type": "markdown",
   "metadata": {},
   "source": [
    "## 5. Call model"
   ]
  },
  {
   "cell_type": "code",
   "execution_count": null,
   "metadata": {},
   "outputs": [],
   "source": [
    "\n",
    "#random.seed(1234)\n",
    "from sklearn.ensemble import RandomForestRegressor\n",
    "from numpy import *\n",
    "\n",
    "random.seed(42)\n",
    "rf8 = RandomForestRegressor(random_state = 42)\n",
    "                            #bootstrap='true',\n",
    " #max_depth=None, max_features='sqrt', min_samples_leaf=5,min_samples_split=2,\n",
    "# n_estimators=20)\n",
    "\n"
   ]
  },
  {
   "cell_type": "markdown",
   "metadata": {},
   "source": [
    "## 6. Train the model on training data"
   ]
  },
  {
   "cell_type": "code",
   "execution_count": null,
   "metadata": {},
   "outputs": [],
   "source": [
    "rf8.fit(Xtrain8, ytrain8)"
   ]
  },
  {
   "cell_type": "markdown",
   "metadata": {},
   "source": [
    "## 6.1 Plot tests results "
   ]
  },
  {
   "cell_type": "code",
   "execution_count": null,
   "metadata": {},
   "outputs": [],
   "source": [
    "training8= rf8.predict(Xtrain8)\n",
    "training8= pd.Series(training8, index=ytrain8.index)"
   ]
  },
  {
   "cell_type": "code",
   "execution_count": null,
   "metadata": {},
   "outputs": [],
   "source": [
    "#plot test data \n",
    "ytrain8.plot(label='observed training target', color='royalblue')\n",
    "training8.plot(label='simulated output', color='chocolate')\n",
    "#plt.suptitle(' GWL Timeseries for Well A2N0553')\n",
    "plt.xlabel('date')\n",
    "plt.ylabel('Groundwater levels (mbgl)')\n",
    "\n",
    "plt.gcf().set_size_inches(10,3)\n",
    "\n",
    "plt.legend(loc = 'best')\n",
    "\n",
    "#plt.savefig(r'C:\\Users\\Kirsty\\Desktop\\Steenkoppies Data\\1. GWL background decline\\A2N0617\\together_rainfall A2N0617 _train')"
   ]
  },
  {
   "cell_type": "markdown",
   "metadata": {},
   "source": [
    "## 6.2 Create data frame from training observed and simulated data"
   ]
  },
  {
   "cell_type": "code",
   "execution_count": null,
   "metadata": {},
   "outputs": [],
   "source": [
    "actual_train8 =np.array(ytrain8)\n",
    "simulated_train8 =np.array(training8)\n",
    " \n",
    "dftrain8= pd.DataFrame({'actual_train8': actual_train8, 'simulated_train8': list(simulated_train8)}, columns=['actual_train8', 'simulated_train8'])"
   ]
  },
  {
   "cell_type": "code",
   "execution_count": null,
   "metadata": {},
   "outputs": [],
   "source": [
    "dftrain8"
   ]
  },
  {
   "cell_type": "markdown",
   "metadata": {},
   "source": [
    "## 6.3 Performace metrics training"
   ]
  },
  {
   "cell_type": "code",
   "execution_count": null,
   "metadata": {},
   "outputs": [],
   "source": [
    "# Performance metrics training \n",
    "from sklearn.metrics import mean_squared_error\n",
    "from sklearn import metrics\n",
    "from sklearn.metrics import r2_score\n",
    "import math\n",
    "import numpy as np\n",
    "actual_train5 = dftrain8['actual_train8']\n",
    "simulated_train5 = dftrain8['simulated_train8']\n",
    "\n",
    "#MAE=metrics.mean_absolute_error (actual_train, simulated_train)\n",
    "#print('Mean Absolute Error:', MAE)\n",
    "\n",
    "#MedianAE=metrics.mean_squared_error (actual_train, simulated_train)\n",
    "#print('Mean Squared Error:', MedianAE)\n",
    "\n",
    "RMSE=np.sqrt(metrics.mean_squared_error(actual_train5, simulated_train5))\n",
    "print ('Root Mean Squared Error:',RMSE)\n",
    "\n",
    "#RMSEr=np.sqrt(sum((actual_train5-simulated_train5)/actual_train5)**2)/300\n",
    "#print('Relative Root Mean Squared Error:',RMSEr)\n",
    "\n",
    "r2_score=metrics.r2_score(actual_train5, simulated_train5)\n",
    "print('r2_score:', r2_score)\n",
    "\n",
    "\n",
    "#Nash Sutcliffe efficiency coefficient\n",
    "NSE= 1 - sum((actual_train5-simulated_train5)**2)/sum((simulated_train5-np.mean(simulated_train5))**2)\n",
    "print('Nash Sutcliffe efficiency coefficient:', NSE)\n",
    "\n"
   ]
  },
  {
   "cell_type": "markdown",
   "metadata": {},
   "source": [
    "## 7. Hyperparameter tuning on validation data set "
   ]
  },
  {
   "cell_type": "code",
   "execution_count": null,
   "metadata": {},
   "outputs": [],
   "source": [
    "param_search = {'kernel' : ('linear', 'poly', 'rbf', 'sigmoid'),\n",
    "                'C' : [1,5,10],'degree' : [3,8],\n",
    "                'coef0' : [0.01,10,0.5],'gamma' : ('auto','scale')}\n",
    "\n"
   ]
  },
  {
   "cell_type": "markdown",
   "metadata": {},
   "source": [
    "from sklearn.model_selection import TimeSeriesSplit, GridSearchCV\n",
    "tscv = TimeSeriesSplit(n_splits=3)\n",
    "gsearch = GridSearchCV(estimator=rf5, cv=tscv,\n",
    "                        param_grid=param_search)\n",
    "gsearch.fit(Xval5, yval5.ravel())"
   ]
  },
  {
   "cell_type": "markdown",
   "metadata": {},
   "source": [
    "gsearch.best_params_"
   ]
  },
  {
   "cell_type": "code",
   "execution_count": null,
   "metadata": {},
   "outputs": [],
   "source": [
    "clf8 = SVR()\n",
    "from sklearn.model_selection import TimeSeriesSplit, GridSearchCV\n",
    "tscv = TimeSeriesSplit(n_splits=3)\n",
    "\n",
    "model8 = GridSearchCV(estimator = clf8, param_grid = param_search, \n",
    "                               cv = tscv, verbose= 5, n_jobs = -1)\n",
    "model8.fit(Xval8,yval8)\n",
    "\n",
    "#predictionforest = model.best_estimator_.predict(X_Test)"
   ]
  },
  {
   "cell_type": "code",
   "execution_count": null,
   "metadata": {},
   "outputs": [],
   "source": [
    "model8.best_params_\n"
   ]
  },
  {
   "cell_type": "code",
   "execution_count": null,
   "metadata": {},
   "outputs": [],
   "source": [
    "trainforest8= model8.best_estimator_.fit(Xtrain8, ytrain8)\n"
   ]
  },
  {
   "cell_type": "code",
   "execution_count": null,
   "metadata": {},
   "outputs": [],
   "source": []
  },
  {
   "cell_type": "markdown",
   "metadata": {},
   "source": [
    "## Predict with new parameter"
   ]
  },
  {
   "cell_type": "code",
   "execution_count": null,
   "metadata": {},
   "outputs": [],
   "source": [
    "predictionforest8= model8.best_estimator_.predict(Xtest8)"
   ]
  },
  {
   "cell_type": "code",
   "execution_count": null,
   "metadata": {},
   "outputs": [],
   "source": [
    "prediction8 = pd.Series(predictionforest8, index=ytest8.index)"
   ]
  },
  {
   "cell_type": "code",
   "execution_count": null,
   "metadata": {},
   "outputs": [],
   "source": [
    "ytest8.plot(label='observed prediction target')\n",
    "prediction8.plot(label='simulated prediction', color='chocolate',linestyle='dashed')\n",
    "#plt.suptitle(' GWL Timeseries Prediction for Well A2N0553')\n",
    "plt.xlabel('date')\n",
    "plt.ylabel('Groundwater levels (mbgl)')\n",
    "\n",
    "plt.gcf().subplots_adjust(left=0.15,bottom=0.15)\n",
    "plt.legend(loc = 'best')\n",
    "\n",
    "plt.gcf().set_size_inches(10,3)\n",
    "\n",
    "#plt.savefig(r'C:\\Users\\Kirsty\\Desktop\\Sprediction')"
   ]
  },
  {
   "cell_type": "markdown",
   "metadata": {},
   "source": [
    "## Create a data frame on test ovserved and simulated "
   ]
  },
  {
   "cell_type": "code",
   "execution_count": null,
   "metadata": {},
   "outputs": [],
   "source": [
    "actual_test8 =np.array(ytest8)\n",
    "simulated_test8 =np.array(prediction8)\n",
    "\n",
    "dataset_val = pd.DataFrame({'actual_test8': actual_test8, 'simulated_test8': list(simulated_test8)}, columns=['actual_test8', 'simulated_test8'])"
   ]
  },
  {
   "cell_type": "code",
   "execution_count": null,
   "metadata": {},
   "outputs": [],
   "source": [
    "# Performance metrics training \n",
    "from sklearn.metrics import mean_squared_error\n",
    "from sklearn import metrics\n",
    "from sklearn.metrics import r2_score\n",
    "import math\n",
    "import numpy as np\n",
    "actual_val = dataset_val['actual_test8']\n",
    "simulated_val = dataset_val['simulated_test8']\n",
    "\n",
    "#MAE=metrics.mean_absolute_error (actual_val, simulated_val)\n",
    "#print('Mean Absolute Error:', MAE)\n",
    "\n",
    "#MedianAE=metrics.mean_squared_error (actual_val, simulated_val)\n",
    "#print('Mean Squared Error:', MedianAE)\n",
    "\n",
    "RMSE=np.sqrt(metrics.mean_squared_error(actual_val, simulated_val))\n",
    "print ('Root Mean Squared Error:',RMSE)\n",
    "\n",
    "#RMSEr=np.sqrt(sum((actual-simulated)/actual)**2)/300\n",
    "#print('Relative Root Mean Squared Error:',RMSEr)\n",
    "\n",
    "r2_score=metrics.r2_score(actual_val, simulated_val)\n",
    "print('r2_score:', r2_score)\n",
    "\n",
    "\n",
    "#Nash Sutcliffe efficiency coefficient\n",
    "NSE= 1 - sum((actual_val-simulated_val)**2)/sum((simulated_val-np.mean(simulated_val))**2)\n",
    "print('Nash Sutcliffe efficiency coefficient:', NSE)\n"
   ]
  },
  {
   "cell_type": "markdown",
   "metadata": {},
   "source": [
    "## Plotting test and train together "
   ]
  },
  {
   "cell_type": "code",
   "execution_count": null,
   "metadata": {},
   "outputs": [],
   "source": [
    "\n",
    "ytest8.plot(label='observed prediction target')\n",
    "prediction8.plot(label='simulated prediction', color='chocolate',linestyle='dashed')\n",
    "\n",
    "ytrain8.plot(label='observed training target', color='royalblue')\n",
    "training8.plot(label='simulated output', color='chocolate')\n",
    "\n",
    "#plt.suptitle(' GWL Timeseries for Well A2N0553')\n",
    "plt.xlabel('date')\n",
    "plt.ylabel('Groundwater levels (mbgl)')\n",
    "\n",
    "plt.gcf().set_size_inches(10,3)\n",
    "\n",
    "plt.legend(loc = \"best\")\n",
    "\n",
    "#plt.savefig(r'C:\\Users\\Kirsty\\Desktop\\Steenkoppies Data\\1. GWL background decline\\A2N0617\\together_rainfall A2N0617 _train'"
   ]
  }
 ],
 "metadata": {
  "kernelspec": {
   "display_name": "Python 3",
   "language": "python",
   "name": "python3"
  },
  "language_info": {
   "codemirror_mode": {
    "name": "ipython",
    "version": 3
   },
   "file_extension": ".py",
   "mimetype": "text/x-python",
   "name": "python",
   "nbconvert_exporter": "python",
   "pygments_lexer": "ipython3",
   "version": "3.7.6"
  }
 },
 "nbformat": 4,
 "nbformat_minor": 4
}
